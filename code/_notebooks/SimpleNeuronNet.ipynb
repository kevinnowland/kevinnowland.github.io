{
 "cells": [
  {
   "cell_type": "markdown",
   "metadata": {},
   "source": [
    "---\n",
    "layout:code-post\n",
    "title: Feed Forward Networks\n",
    "tags: neural nets\n",
    "---\n",
    "\n",
    "In this post / notebook I'm going to move from a single neuron to a small\n",
    "network of neurons, demonstrating just a bit how the complexity increases.\n",
    "Initially I will start again by coding things by hand, but then at the end\n",
    "I will try to recreate results with `PyTorch` as a way to introduce myself\n",
    "to it. We will stay in the realm of supervised learning of a binary\n",
    "classification problem, as well.\n",
    "\n",
    "I am mostly following the neural net chapter from Benjamin and Shalev-Schwartz's\n",
    "_Understanding Machine Learning_.\n",
    "\n",
    "Outline:\n",
    "\n",
    "0. Generating Data\n",
    "1. Adding neurons\n",
    "2. Backpropogation\n",
    "3. An example\n",
    "4. Pytorch\n",
    "\n",
    "## 0. Generating Data\n",
    "\n",
    "Before we really get going, I'm going to set up some training data. For\n",
    "this notebook, I'm goign to uniformly generate points in a 10 x 10 square\n",
    "with the bottom left corner at the origin. The points will be classified\n",
    "by where the fall with respect to input functions. We'll mostly be using\n",
    "linear functions to carve up our test space, so we'll create some helper\n",
    "functions for those as well."
   ]
  },
  {
   "cell_type": "code",
   "execution_count": 147,
   "metadata": {},
   "outputs": [],
   "source": [
    "import pandas as pd\n",
    "import numpy as np\n",
    "import matplotlib.pyplot as plt"
   ]
  },
  {
   "cell_type": "code",
   "execution_count": 180,
   "metadata": {},
   "outputs": [],
   "source": [
    "# Functions for lines\n",
    "\n",
    "class SlopeLine():\n",
    "    \"\"\" a line defined by slope and intercept \"\"\"\n",
    "    def __init__(self, m, b):\n",
    "        self.m = m\n",
    "        self.b = b\n",
    "        \n",
    "    def y(self, x):\n",
    "        return self.m * x + self.b\n",
    "\n",
    "def get_slope_line(point_1, point_2):\n",
    "    \"\"\"returns slope line object with line determined by the points\n",
    "    where point_i = (x, y)\"\"\"\n",
    "    \n",
    "    m = (point_2[1] - point_1[1]) / (point_2[0] - point_1[0])\n",
    "    b = point_1[1] - m * point_1[0]\n",
    "    \n",
    "    return SlopeLine(m, b)\n",
    "\n",
    "# Functions to generate points\n",
    "class Inequality():\n",
    "    \"\"\"\n",
    "    given a function f(x) of one variable.\n",
    "    we will test y < f(x) or y > f(x)\n",
    "    for a point (x, y)\n",
    "    \"\"\"\n",
    "    def __init__(self, func, ineq_type):\n",
    "        self.func = func\n",
    "        \n",
    "        if ineq_type == '<':\n",
    "            self.eval = self.less_than\n",
    "        elif ineq_type == '>':\n",
    "            self.eval = self.greater_than\n",
    "        else:\n",
    "            raise Exception(\"ineq_type must be '>' or '<'\")\n",
    "        \n",
    "    def less_than(self, point):\n",
    "        return point[:,1] < self.func(point[:,0])\n",
    "    \n",
    "    def greater_than(self, point):\n",
    "        return point[:,1] > self.func(point[:,0])\n",
    "    \n",
    "\n",
    "def generate_points(n, inequality_lists):\n",
    "    \"\"\" get n points in the 10x10 square classified by\n",
    "    inequalities.\n",
    "    \n",
    "    inequality_lists should be a list of lists of inequalities.\n",
    "    \n",
    "    Points are evaluated to the positive class (1) by the\n",
    "    interior lists if all the inequalities in that list\n",
    "    are satisfied. Then, if any of the the interior lists\n",
    "    return true, the point is classified as true.\n",
    "    \n",
    "    \"\"\"\n",
    "    data_x = np.random.uniform(0, 10, (n, 2))\n",
    "    \n",
    "    def evaluate_list(inequality_list):\n",
    "        \n",
    "        evals = np.array([ineq.eval(data_x) for ineq in inequality_list]) \\\n",
    "                  .transpose()\n",
    "        return np.array([all(p) for p in evals])\n",
    "    \n",
    "    all_evals = np.array([evaluate_list(il) for il in inequality_lists]) \\\n",
    "                  .transpose()\n",
    "    \n",
    "    data_y = np.array([1 if any(p) else -1 for p in all_evals])\n",
    "    \n",
    "    data = {\n",
    "        'x_1': data_x[:,0]\n",
    "        ,'x_2': data_x[:,1]\n",
    "        ,'y': data_y\n",
    "    }\n",
    "    return pd.DataFrame(data)"
   ]
  },
  {
   "cell_type": "markdown",
   "metadata": {},
   "source": [
    "## 2. Adding Neurons\n",
    "\n",
    "A single neuron $v_1$ acts on $k$-dimensional input $x$ by weighting each\n",
    "component of $x$ as well as the constant 1, adding these weighted\n",
    "components together, and inputing that into an activation function\n",
    "$\\sigma$. If we write the input as $x' = (x, 1)$ as a column vector,\n",
    "then the input $a$ to the neuron is $Wx'=a$ where $W$ is an $(k+1)$-dimensional\n",
    "row vector, i.e., a $1,k+1$-dimensional matrix. Then the output $o$ of the\n",
    "neuron is $o=\\sigma(Wx')$.\n",
    "\n",
    "Let's add a second neuron $v_2$. It also gets the same input but with\n",
    "different weights. If we take $W$ to be a $2,k+1$-dimensional matrix,\n",
    "then $Wx'$ is length 2 vector. Let's now regard $\\sigma$ as a function \n",
    "which applies the previous activation function to each component of an \n",
    "input vector. Then the output of the two neurons is $\\sigma(Wx')$, as\n",
    "before, but we've changed the meaning of the components.\n",
    "\n",
    "However, we have a problem. We now have two dimensional output when we\n",
    "are predicting one class. We then add an _output layer_ which consists\n",
    "of a single neuron that takes in the weighted output of the previous\n",
    "layer and applies an activation function. So by trying to expand our\n",
    "neural network from 1 neuron to 2, we naturally were forced to add a\n",
    "single neuron output layer as well as weights for the outputs of each\n",
    "of the two neurons. If we consider the inputs as a layer, we\n",
    "see the the simplest neural network that does not reduce to a single neuron\n",
    "has one _hidden layer_ of two neurons, an output layer of a single neuron,\n",
    "and $k+1$ trivial neurons in the _input layer_.\n",
    "\n",
    "We will write $W^1$ for the $2,k-1$-dimensional weight matrix\n",
    "from $x'$ to the hidden layer, and $W^2$ for the $1,2$-dimensional\n",
    "weight matrix (in this case a vector) for the weights going to the output\n",
    "layer from the hidden layer. The output of the neural netowrk is\n",
    "$\\sigma(W^2\\sigma(W^1x'))$. Note that we could change the activation\n",
    "functions per neuron or per level, but we will not do so here.\n",
    "\n",
    "Let's set up this simple neural network and see what it can do."
   ]
  },
  {
   "cell_type": "code",
   "execution_count": 252,
   "metadata": {},
   "outputs": [],
   "source": [
    "class SimpleNN():\n",
    "    \"\"\"neural network with 1 hidden layer and 2 neurons\n",
    "    \n",
    "    This class assumes that sigma works on vectors\"\"\"\n",
    "    \n",
    "    def __init__(self, w, sigma):\n",
    "        self.w = w\n",
    "        self.sigma = sigma\n",
    "        \n",
    "    def output(self, x):\n",
    "        \"\"\" we assume that x already has 1 appended to it\"\"\"\n",
    "        o_1 = self.sigma(np.inner(self.w[0], x))\n",
    "        return self.sigma(np.inner(self.w[1], o_1))\n",
    "    \n",
    "def sigmoid(x):\n",
    "    return 1.0/(1 + np.exp(-x))"
   ]
  },
  {
   "cell_type": "code",
   "execution_count": 256,
   "metadata": {},
   "outputs": [],
   "source": [
    "w = np.array([\n",
    "    [[0.75, 0.25, 0.25], [0.33, 0.67, 0.25]]\n",
    "    ,[[0.25, 0.25]]\n",
    "])\n",
    "\n",
    "snn = SimpleNN(w, sigmoid)"
   ]
  },
  {
   "cell_type": "code",
   "execution_count": 262,
   "metadata": {},
   "outputs": [
    {
     "name": "stdout",
     "output_type": "stream",
     "text": [
      "24.2 µs ± 245 ns per loop (mean ± std. dev. of 7 runs, 10000 loops each)\n"
     ]
    }
   ],
   "source": [
    "%%timeit\n",
    "snn.output(np.array([2, 4, 1]))"
   ]
  },
  {
   "cell_type": "code",
   "execution_count": null,
   "metadata": {},
   "outputs": [],
   "source": []
  },
  {
   "cell_type": "code",
   "execution_count": null,
   "metadata": {},
   "outputs": [],
   "source": []
  },
  {
   "cell_type": "code",
   "execution_count": null,
   "metadata": {},
   "outputs": [],
   "source": []
  },
  {
   "cell_type": "markdown",
   "metadata": {},
   "source": [
    "Here's the more general setup:\n",
    "\n",
    "Let $\\ell_i$ consist of\n",
    "a layer (list) of neurons $\\{v_{i, 0}, \\ldots, v_{i, n}\\}$.\n",
    "\n",
    "A feed forward neural network consists of layers of neurons $ell_i$ for \n",
    "$i=0, \\ldots, T$ such that the neurons in $\\ell_t$ feed into those in\n",
    "$\\ell_{t+1}$ only. By convention, if $x$ is $k$-dimensional input, then\n",
    "$\\ell_0$ consists of the $k+1$ neurons $n_i$ such that $n_i$ puts out $x_i$ for\n",
    "$i=1,\\ldots,k$ and $n_{k+1}$ outputs $1$. The $0$th layer is also called the\n",
    "_input layer_.  The _output layer_ $\\ell_T$ to consist of a single \n",
    "neuron $v_T$ which aggregates the input from the previous layer into a final\n",
    "prediction for the input data. The layers $\\ell_1, \\ldots, \\ell_{T-1}$ are the\n",
    "_hidden layers_. The _width_ of the network is th width of the widest\n",
    "hidden layer.\n",
    "\n",
    "Suppose that layer $\\ell_{t-1}$ has width $n$ and $\\ell_t$ has width $n$.\n",
    "Let $o_{t-1}$ be the $n$-dimensional output of $\\ell_{t-1}$ and let $a_t$\n",
    "the $m$-dimensional input of $\\ell_t$. If $w^t_{i, j}$ is the weight\n",
    "from $v_{t-1, i}$ to $v_{t, j}$, then it follows that $W^t o_{t-1} = a_t$\n",
    "where $W^t = (w^t_{i, j})$ is an $m\\times n$-dimensional matrix. Two neurons\n",
    "are not connected if the corresponding weight is 0.\n",
    "\n",
    "Let $\\sigma^t$ be the $m$-dimensional vector of activation functions for $\\ell_t$.\n",
    "Then $o_t = \\sigma^t(a_t) = \\sigma^t(W^to_{t-1})$.\n",
    "If each component of each $\\sigma^t$ is identical, we will just write $\\sigma$\n",
    "and the meaning will be clear from context.\n",
    "\n",
    "Note that the smallest neural netowrk which is not equivalent to a single\n",
    "neuron has 1 hidden layer with 2 neurons. Considering the input layer\n",
    "and the output layer, this neural network would have $k+4$ neurons:\n",
    "$k+1$ in the input layer, $2$ in the single hidden layer, and 1 in the output\n",
    "layer.\n",
    "\n",
    "The _architecture_ of the network refers to the structure edges between neurons,\n",
    "which are zero, and which are nonzero, as well as the which activation functions\n",
    "each neuron has."
   ]
  },
  {
   "cell_type": "code",
   "execution_count": null,
   "metadata": {},
   "outputs": [],
   "source": []
  },
  {
   "cell_type": "code",
   "execution_count": null,
   "metadata": {},
   "outputs": [],
   "source": []
  },
  {
   "cell_type": "code",
   "execution_count": null,
   "metadata": {},
   "outputs": [],
   "source": []
  },
  {
   "cell_type": "code",
   "execution_count": null,
   "metadata": {},
   "outputs": [],
   "source": []
  },
  {
   "cell_type": "code",
   "execution_count": null,
   "metadata": {},
   "outputs": [],
   "source": []
  },
  {
   "cell_type": "markdown",
   "metadata": {},
   "source": [
    "## Misc"
   ]
  },
  {
   "cell_type": "code",
   "execution_count": 204,
   "metadata": {},
   "outputs": [],
   "source": [
    "eye_1 = np.array([\n",
    "    [2, 5]\n",
    "    ,[3, 6]\n",
    "    ,[4, 5]\n",
    "    ,[3, 4]\n",
    "    ,[2, 5]\n",
    "])\n",
    "eye_2 = eye_1 + [4, 0]\n",
    "mouth = np.array([[2, 2], [8, 2], [5, 1], [2, 2]])\n",
    "\n",
    "lines_eye_1 = [get_slope_line(eye_1[i], eye_1[i+1]) for i in range(len(eye_1) - 1)]\n",
    "lines_eye_2 = [get_slope_line(eye_2[i], eye_2[i+1]) for i in range(len(eye_2) - 1)]\n",
    "lines_mouth = [get_slope_line(mouth[i], mouth[i+1]) for i in range(len(mouth) - 1)]\n",
    "\n",
    "ineq_eye_1 = [Inequality(lines_eye_1[0].y, '<'), Inequality(lines_eye_1[1].y, '<'),\n",
    "              Inequality(lines_eye_1[2].y, '>'), Inequality(lines_eye_1[3].y, '>')]\n",
    "\n",
    "ineq_eye_2 = [Inequality(lines_eye_2[0].y, '<'), Inequality(lines_eye_2[1].y, '<'),\n",
    "              Inequality(lines_eye_2[2].y, '>'), Inequality(lines_eye_2[3].y, '>')]\n",
    "\n",
    "ineq_mouth = [Inequality(lines_mouth[0].y, '<'), Inequality(lines_mouth[1].y, '>'), \n",
    "              Inequality(lines_mouth[2].y, '>')]\n",
    "\n",
    "df = generate_points(10000, [ineq_eye_1, ineq_eye_2, ineq_mouth])"
   ]
  },
  {
   "cell_type": "code",
   "execution_count": 205,
   "metadata": {},
   "outputs": [
    {
     "data": {
      "image/png": "[encoded data removed]",
      "text/plain": [
       "<Figure size 432x288 with 1 Axes>"
      ]
     },
     "metadata": {
      "needs_background": "light"
     },
     "output_type": "display_data"
    }
   ],
   "source": [
    "c = df['y'] == 1\n",
    "\n",
    "plt.plot(df[c].x_1, df[c].x_2, 'ko')\n",
    "#plt.plot(df[~c].x_1, df[~c].x_2, 'ro')\n",
    "plt.show()"
   ]
  },
  {
   "cell_type": "code",
   "execution_count": 231,
   "metadata": {},
   "outputs": [],
   "source": [
    "center = [5, 5]\n",
    "r = 4\n",
    "\n",
    "offset = -np.pi / 8 + .00001\n",
    "\n",
    "points = r * np.array([[np.cos(i * np.pi / 4 + offset), np.sin(i * np.pi / 4 + offset)] for i in range(9)]) + center"
   ]
  },
  {
   "cell_type": "code",
   "execution_count": 242,
   "metadata": {},
   "outputs": [],
   "source": [
    "inequalities = [[\n",
    "    Inequality(get_slope_line(points[i], points[i+1]).y, '<' if i < 4 else '>') for i in range(8)\n",
    "]]\n",
    "\n",
    "df = generate_points(10000, inequalities)"
   ]
  },
  {
   "cell_type": "code",
   "execution_count": 246,
   "metadata": {},
   "outputs": [
    {
     "data": {
      "image/png": "[encoded data removed]",
      "text/plain": [
       "<Figure size 432x288 with 1 Axes>"
      ]
     },
     "metadata": {
      "needs_background": "light"
     },
     "output_type": "display_data"
    }
   ],
   "source": [
    "c = df['y'] == 1\n",
    "\n",
    "plt.plot(df[c].x_1, df[c].x_2, 'ro')\n",
    "plt.plot(df[~c].x_1, df[~c].x_2, 'ko')\n",
    "plt.show()"
   ]
  },
  {
   "cell_type": "code",
   "execution_count": null,
   "metadata": {},
   "outputs": [],
   "source": []
  }
 ],
 "metadata": {
  "kernelspec": {
   "display_name": "Python [conda env:gitpage] *",
   "language": "python",
   "name": "conda-env-gitpage-py"
  },
  "language_info": {
   "codemirror_mode": {
    "name": "ipython",
    "version": 3
   },
   "file_extension": ".py",
   "mimetype": "text/x-python",
   "name": "python",
   "nbconvert_exporter": "python",
   "pygments_lexer": "ipython3",
   "version": "3.7.6"
  }
 },
 "nbformat": 4,
 "nbformat_minor": 4
}
