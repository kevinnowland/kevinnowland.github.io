{
 "cells": [
  {
   "cell_type": "markdown",
   "metadata": {},
   "source": [
    "---\n",
    "layout:code-post\n",
    "title: Feed Forward Networks\n",
    "tags: neural nets\n",
    "---\n",
    "\n",
    "In this post / notebook I'm going to move from a single neuron to a small\n",
    "network of neurons, demonstrating just a bit how the complexity increases.\n",
    "Initially I will start again by coding things by hand, but then at the end\n",
    "I will try to recreate results with `PyTorch` as a way to introduce myself\n",
    "to it. We will stay in the realm of supervised learning of a binary\n",
    "classification problem, as well.\n",
    "\n",
    "I am mostly following the neural net chapter from Benjamin and Shalev-Schwartz's\n",
    "_Understanding Machine Learning_.\n",
    "\n",
    "Outline:\n",
    "\n",
    "0. Generating Data\n",
    "1. Adding neurons\n",
    "  1. Keeping it linear\n",
    "  2. Sigmoid function\n",
    "2. Backpropogation\n",
    "3. An example\n",
    "4. Pytorch\n",
    "\n",
    "## 0. Generating Data\n",
    "\n",
    "Before we really get going, I'm going to set up some training data. For\n",
    "this notebook, I'm goign to uniformly generate points in a 10 x 10 square\n",
    "with the bottom left corner at the origin. The points will be classified\n",
    "by where the fall with respect to input functions. We'll mostly be using\n",
    "linear functions to carve up our test space, so we'll create some helper\n",
    "functions for those as well."
   ]
  },
  {
   "cell_type": "code",
   "execution_count": 1,
   "metadata": {},
   "outputs": [],
   "source": [
    "import pandas as pd\n",
    "import numpy as np\n",
    "import matplotlib.pyplot as plt"
   ]
  },
  {
   "cell_type": "code",
   "execution_count": 2,
   "metadata": {},
   "outputs": [],
   "source": [
    "# Functions for lines\n",
    "\n",
    "class SlopeLine():\n",
    "    \"\"\" a line defined by slope and intercept \"\"\"\n",
    "    def __init__(self, m, b):\n",
    "        self.m = m\n",
    "        self.b = b\n",
    "        \n",
    "    def y(self, x):\n",
    "        return self.m * x + self.b\n",
    "    \n",
    "    def x(self, y):\n",
    "        return (y - self.b) / self.m\n",
    "\n",
    "def get_slope_line(point_1, point_2):\n",
    "    \"\"\"returns slope line object with line determined by the points\n",
    "    where point_i = (x, y)\"\"\"\n",
    "    \n",
    "    m = (point_2[1] - point_1[1]) / (point_2[0] - point_1[0])\n",
    "    b = point_1[1] - m * point_1[0]\n",
    "    \n",
    "    return SlopeLine(m, b)\n",
    "\n",
    "# Functions to generate points\n",
    "class Inequality():\n",
    "    \"\"\"\n",
    "    given a function f(x) of one variable.\n",
    "    we will test y < f(x) or y > f(x)\n",
    "    for a point (x, y)\n",
    "    \"\"\"\n",
    "    def __init__(self, func, ineq_type):\n",
    "        self.func = func\n",
    "        \n",
    "        if ineq_type == '<':\n",
    "            self.eval = self.less_than\n",
    "        elif ineq_type == '>':\n",
    "            self.eval = self.greater_than\n",
    "        else:\n",
    "            raise Exception(\"ineq_type must be '>' or '<'\")\n",
    "        \n",
    "    def less_than(self, point):\n",
    "        return point[:,1] < self.func(point[:,0])\n",
    "    \n",
    "    def greater_than(self, point):\n",
    "        return point[:,1] > self.func(point[:,0])\n",
    "    \n",
    "\n",
    "def generate_points(n, inequality_lists):\n",
    "    \"\"\" get n points in the 10x10 square classified by\n",
    "    inequalities.\n",
    "    \n",
    "    inequality_lists should be a list of lists of inequalities.\n",
    "    \n",
    "    Points are evaluated to the positive class (1) by the\n",
    "    interior lists if all the inequalities in that list\n",
    "    are satisfied. Then, if any of the the interior lists\n",
    "    return true, the point is classified as true.\n",
    "    \n",
    "    \"\"\"\n",
    "    data_x = np.random.uniform(0, 10, (n, 2))\n",
    "    \n",
    "    def evaluate_list(inequality_list):\n",
    "        \n",
    "        evals = np.array([ineq.eval(data_x) for ineq in inequality_list]) \\\n",
    "                  .transpose()\n",
    "        return np.array([all(p) for p in evals])\n",
    "    \n",
    "    all_evals = np.array([evaluate_list(il) for il in inequality_lists]) \\\n",
    "                  .transpose()\n",
    "    \n",
    "    data_y = np.array([1 if any(p) else -1 for p in all_evals])\n",
    "    \n",
    "    data = {\n",
    "        'x_1': data_x[:,0]\n",
    "        ,'x_2': data_x[:,1]\n",
    "        ,'y': data_y\n",
    "    }\n",
    "    return pd.DataFrame(data)"
   ]
  },
  {
   "cell_type": "markdown",
   "metadata": {},
   "source": [
    "## 2. Adding Neurons\n",
    "\n",
    "A single neuron $v_1$ acts on $k$-dimensional input $x$ by weighting each\n",
    "component of $x$ as well as the constant 1, adding these weighted\n",
    "components together, and inputing that into an activation function\n",
    "$\\sigma$. If we write the input as $x' = (x, 1)$ as a column vector,\n",
    "then the input $a$ to the neuron is $Wx'=a$ where $W$ is an $(k+1)$-dimensional\n",
    "row vector, i.e., a $1,k+1$-dimensional matrix. Then the output $o$ of the\n",
    "neuron is $o=\\sigma(Wx')$.\n",
    "\n",
    "Let's add a second neuron $v_2$. It also gets the same input but with\n",
    "different weights. If we take $W$ to be a $2,k+1$-dimensional matrix,\n",
    "then $Wx'$ is length 2 vector. Let's now regard $\\sigma$ as a function \n",
    "which applies the previous activation function to each component of an \n",
    "input vector. Then the output of the two neurons is $\\sigma(Wx')$, as\n",
    "before, but we've changed the meaning of the components.\n",
    "\n",
    "However, we have a problem. We now have two dimensional output when we\n",
    "are predicting one class. We then add an _output layer_ which consists\n",
    "of a single neuron that takes in the weighted output of the previous\n",
    "layer and applies an activation function. So by trying to expand our\n",
    "neural network from 1 neuron to 2, we naturally were forced to add a\n",
    "single neuron output layer as well as weights for the outputs of each\n",
    "of the two neurons. If we consider the inputs as a layer, we\n",
    "see the the simplest neural network that does not reduce to a single neuron\n",
    "has one _hidden layer_ of two neurons, an output layer of a single neuron,\n",
    "and $k+1$ trivial neurons in the _input layer_.\n",
    "\n",
    "We will write $W^1$ for the $2,k-1$-dimensional weight matrix\n",
    "from $x'$ to the hidden layer, and $W^2$ for the $1,2$-dimensional\n",
    "weight matrix (in this case a vector) for the weights going to the output\n",
    "layer from the hidden layer. The output of the neural network is\n",
    "$\\sigma(W^2\\sigma(W^1x'))$. Note that we could change the activation\n",
    "functions per neuron or per level. In particular, the output layer\n",
    "might have a distinct activation function from the hidden layers.\n",
    "\n",
    "Let's set up this simple neural network and see what it can do."
   ]
  },
  {
   "cell_type": "code",
   "execution_count": 3,
   "metadata": {},
   "outputs": [],
   "source": [
    "class SimpleNN():\n",
    "    \"\"\"neural network with 1 hidden layer and 2 neurons\n",
    "    \n",
    "    This class assumes that sigma at each\n",
    "    layer works on vectors of the appropriate size\"\"\"\n",
    "    \n",
    "    def __init__(self, w, sigma):\n",
    "        self.w = w\n",
    "        self.sigma = sigma\n",
    "        \n",
    "    def output(self, x):\n",
    "        \"\"\" we assume that the row vector x already has 1 appended to it\"\"\"\n",
    "        if type(x) == list:\n",
    "            x = np.array(x)\n",
    "        \n",
    "        o_1 = self.sigma[0](np.matmul(self.w[0], x.transpose()))\n",
    "        return self.sigma[1](np.matmul(self.w[1], o_1)).transpose()\n",
    "    \n",
    "def sigmoid(x):\n",
    "    return 1.0/(1 + np.exp(-x))"
   ]
  },
  {
   "cell_type": "markdown",
   "metadata": {},
   "source": [
    "### A. Keeping it linear\n",
    "\n",
    "To keep things very simple, we'll start by having the hidden\n",
    "layer activation functions linear. The output layer\n",
    "will have an activation function that does the following:\n",
    "\n",
    "- conjuction\n",
    "- disjunction\n",
    "\n",
    "We'll randomly initialize a neuron and see what it does to points in the\n",
    "square of side length 20 centered at the origin.\n",
    "\n",
    "In the [perceptron notebook](https://kevinnowland.com/code/2020/04/03/perceptron.html), we saw that \n",
    "individual neurons perform linear separators. Can we interpret what is happening here\n",
    "as the intersection of two linear separators?"
   ]
  },
  {
   "cell_type": "code",
   "execution_count": null,
   "metadata": {},
   "outputs": [],
   "source": []
  },
  {
   "cell_type": "code",
   "execution_count": null,
   "metadata": {},
   "outputs": [],
   "source": []
  },
  {
   "cell_type": "code",
   "execution_count": null,
   "metadata": {},
   "outputs": [],
   "source": []
  },
  {
   "cell_type": "code",
   "execution_count": null,
   "metadata": {},
   "outputs": [],
   "source": []
  },
  {
   "cell_type": "markdown",
   "metadata": {},
   "source": [
    "### B. Sigmoid Function\n",
    "\n",
    "Now let's change the hidden lyaer activation function to be the sigmoid\n",
    "function \n",
    "$$ f(x) = \\frac{1}{1 + \\exp(-x)}. $$\n",
    "The output layer will activate using the sign function."
   ]
  },
  {
   "cell_type": "code",
   "execution_count": 4,
   "metadata": {},
   "outputs": [
    {
     "name": "stdout",
     "output_type": "stream",
     "text": [
      "W^1 = \n",
      " [[ 0.93405968  0.0944645   0.94536872]\n",
      " [ 0.42963199  0.39545765 -0.56782101]]\n",
      "W^2 = \n",
      " [[ 0.95254891 -0.98753949]]\n"
     ]
    },
    {
     "name": "stderr",
     "output_type": "stream",
     "text": [
      "/anaconda2/envs/gitpage/lib/python3.7/site-packages/ipykernel_launcher.py:20: RuntimeWarning: overflow encountered in exp\n"
     ]
    },
    {
     "data": {
      "image/png": "[encoded data removed]",
      "text/plain": [
       "<Figure size 432x288 with 1 Axes>"
      ]
     },
     "metadata": {
      "needs_background": "light"
     },
     "output_type": "display_data"
    }
   ],
   "source": [
    "# instantiate neural network\n",
    "np.random.seed(4)\n",
    "\n",
    "w = [\n",
    "    np.random.uniform(-1, 1, (2, 3))\n",
    "    ,np.random.uniform(-1, 1, (1,2))\n",
    "]\n",
    "\n",
    "print('W^1 = \\n', w[0])\n",
    "print('W^2 = \\n', w[1])\n",
    "\n",
    "snn = SimpleNN(w, [sigmoid, np.sign])\n",
    "\n",
    "# generate random points\n",
    "test_data = np.ones((10000, 3))\n",
    "\n",
    "test_data[:,0] = np.random.uniform(-1000, 500, 10000)\n",
    "test_data[:,1] = np.random.uniform(-2000, 1000, 10000)\n",
    "\n",
    "# predict\n",
    "output = snn.output(test_data)\n",
    "\n",
    "# plot\n",
    "df = pd.DataFrame({\n",
    "    'x_1': test_data[:,0]\n",
    "    ,'x_2': test_data[:,1]\n",
    "    ,'y': output.flatten()\n",
    "})\n",
    "\n",
    "c = df.y == 1\n",
    "\n",
    "plt.plot(df[c].x_1, df[c].x_2, 'bo', label='pos')\n",
    "plt.plot(df[~c].x_1, df[~c].x_2, 'ro', label='neg')\n",
    "plt.legend(loc='upper center', bbox_to_anchor=(1.1, 1))\n",
    "plt.show()"
   ]
  },
  {
   "cell_type": "markdown",
   "metadata": {},
   "source": [
    "Can we make sense of this image?\n",
    "\n",
    "There appear to be three lines governing the behavior. This is convenient, because the\n",
    "sigmoid function has three sets of behavior. If $|x|$ is small, say $|x| < 4$, then\n",
    "the sigmoid function is approximately linear with slope 1.\n",
    "If $|x| > 4$, then sigmoid function is approximately constant, either constantly 1\n",
    "for $x$ positive, or constantly (very close to but not exactly) zero.\n",
    "\n",
    "Let $o_1$ be the output of the first neuron in the hidden layer and $o_2$\n",
    "the output of the second neuron. The output of the neural net is given \n",
    "by $\\operatorname{sign}{(w_1o_1 + w_2o_2)}$, where we have suppressed the superscript\n",
    "on the weights. Since $o_i = \\sigma(a_i)$ and the sigmoid function is always\n",
    "positive, if $w_1$ and $w_2$ have the same sign, then the output is determined\n",
    "by this sign. Therefore we can assume that $w_1$ and $w_2$ have opposite signs.\n",
    "We'll assume that $w_1>0$ and $w_2<0$.\n",
    "\n",
    "Let's despense with the degenerate case where $|w_1| = |w_2|$. In practice \n",
    "this will not happen, as we will be randomizing the weights and then \n",
    "optimizing, and both processes will ensure that this case does not occur. In\n",
    "theory this is boring. The positive output case occurs then when $o_1 > o_2$ \n",
    "and the negative case when $o_1 < o_2$. Since the sigmoid function is \n",
    "increasing and $o_i = \\sigma(a_i)$ where $a_i$ is the input to neuron $i$, \n",
    "this just says we care about $a_1 > a_2$ or vice versa. We might as well have \n",
    "replaced the sigmoid function with the identity function as the hidden layer \n",
    "activator.\n",
    "\n",
    "With that taken care of, let's suppose that $|w_1| < |w_2|$ and $w_1 > 0$ while\n",
    "$w_2 < 0$, which is the case for the picture generated above.\n",
    "As a reminder, we are looking at the sign of $w_1 o_1 + w_2 o_2$. The dividing line\n",
    "is $w_1 o_1 + w_2 o_2 = 0$. We can rewrite this as\n",
    "$$ \\left|\\frac{w_2}{w_1}\\right| = \\frac{o_1}{o_2}. $$\n",
    "Let's like $k = |w_2/w_1| > 1$. Plugging in $o_i = (1 + \\exp(-a_i))^{-1}$\n",
    "and solving for $e^{-a_2}$, one finds that \n",
    "$$ e^{-a_2} = ke^{-a_1} + (k-1), $$\n",
    "such that in $(e^{-a_1}, e^{-a_2})$-coordinates, we have a line with slope\n",
    "$k>1$ and intercept $k-1>0$. "
   ]
  },
  {
   "cell_type": "code",
   "execution_count": 5,
   "metadata": {},
   "outputs": [
    {
     "data": {
      "image/png": "[encoded data removed]",
      "text/plain": [
       "<Figure size 432x288 with 1 Axes>"
      ]
     },
     "metadata": {
      "needs_background": "light"
     },
     "output_type": "display_data"
    }
   ],
   "source": [
    "k = 1.5\n",
    "\n",
    "fig, ax = plt.subplots()\n",
    "\n",
    "ax.set_xlabel('$e^{-a_1}$')\n",
    "ax.set_ylabel('$e^{-a_2}$')\n",
    "\n",
    "ax.set_xlim(0, 10)\n",
    "ax.set_ylim(0, 10)\n",
    "\n",
    "x = np.array([i/10.0 for i in range(100)])\n",
    "y = k * x + (k-1)\n",
    "\n",
    "ax.plot(x, x, color=\"black\", label=\"$y=x$\")\n",
    "ax.plot(x, y, label=\"y = kx + (k-1)\")\n",
    "\n",
    "ax.legend()\n",
    "\n",
    "plt.show()"
   ]
  },
  {
   "cell_type": "markdown",
   "metadata": {},
   "source": [
    "Now let's consider what happens in terms of $(a_1, a_2)$. The $y$-intercept\n",
    "at $k-1$ implies that the graph in $a$-coordinates has a horizontal intercept\n",
    "at $-\\log(k-1)$, since $e^{-a_1}$ going to zero implies $a_1$ is going to \n",
    "positive infinity and $e^{-a_2}$ is going to the constant $k-1$.\n",
    "\n",
    "On the other hand, when $a_1=0$, then we have $e^{-a_2} = 2k - 1$, such that\n",
    "there is always a $a_2$-intercept at $-\\log(2k - 1)$. Note that this is always\n",
    "below the horizontal asymptote.\n",
    "\n",
    "What about the behavior as $a_1$ tends to $-\\infty$? If we rewrite the \n",
    "linear equation as\n",
    "$$ \\frac{e^{-a_2}}{e^{-a_1}} = k + \\frac{k-1}{e^{-a_1}}, $$\n",
    "we see that $e^{-a_2} \\approx ke^{-a_1}$, such that\n",
    "$a_2 \\approx a_1 - \\log k$.\n",
    "\n",
    "Thus we see that we have three behaviors: when $a_1$ is large, then the \n",
    "behavior is that the dividing line is at a constant of $a_2 = -\\log(k-1)$. If\n",
    "$a_1$ is very small, then the dividing line is at $a_2 = a_1 - \\log k$. \n",
    "Then there is a transition zone, which we need to examine further.\n",
    "\n",
    "To approximate the transition zone, we will use the tangent line at the point\n",
    "of maximum curvature. The point of maximum curvature is the point\n",
    "where $a_2''$ is maximized, i.e., the point where $a_2'''=0$. Since\n",
    "$$ a_2 = -\\log(k e^{-a_1} + (k-1)) $$\n",
    "According to Wolfram Alpha (what?), the third derivative is zero\n",
    "at\n",
    "$$ a_1 = \\log\\left( \\frac{k}{k-1} \\right). $$\n",
    "The point of intersection is therefore\n",
    "$$ (a_1, a_2) = \\left( \\log\\left(\\frac{k}{k-1}\\right), -\\log(2(k-1)) \\right) $$\n",
    "and the slope is $1/2$. Combining this means that in the transition zone we\n",
    "approximate the decision boundary with\n",
    "$$ a_2 = \\frac{1}{2}a_1 - \\log(2\\sqrt{k(k-1)}). $$\n",
    "The intersection of this line with the horizontal asymptote\n",
    "$a_2=-\\log(k-1)$ is at $a_1 = \\log(4k/(k-1))$. The intersection witht the\n",
    "line $a_1 - \\log(k)$ happens at $a_1 = \\log(k/4(k-1))$.\n",
    "\n",
    "Therefore our approximate boundary can be described by\n",
    "$$\n",
    "    a_2 = \n",
    "    \\begin{cases}\n",
    "        a_1 - \\log k & a_1 < \\log\\left(\\frac{k}{k-1}\\right) - \\log 4, \\\\\n",
    "        \\frac{1}{2}a_1 - \\log(2\\sqrt{k(k-1)}) \n",
    "            &  \\log\\left(\\frac{k}{k-1}\\right) - \\log 4 \\leq a_1 \\leq \\log\\left(\\frac{k}{k-1}\\right) + \\log 4, \\\\\n",
    "        -\\log(k-1) & \\log\\left(\\frac{k}{k-1}\\right) + \\log 4< a_1.\n",
    "    \\end{cases}\n",
    "$$\n",
    "Above this line, the output of the neural net will be $-1$, while below it\n",
    "the ouput will (mostly) be $+1$.\n",
    "\n",
    "Now, for our situation we have\n",
    "$$ a_1 \\approx 0.934x_1 + 0.094 x_2 + 0.945, \\quad  a_2 \\approx 0.429x_1 + 0.395 x_2 -0.567. $$\n",
    "\n",
    "Such that the lines we care about are\n",
    "$$\n",
    "\\begin{align*}\n",
    "    x_2 &\\approx 1.675 x_1 + 4.907, \\\\\n",
    "    x_2 &\\approx 0.107 x_1 + 5.689, \\\\\n",
    "    x_2 &\\approx -1.086 x_1 + 9.790\n",
    "\\end{align*}\n",
    "$$"
   ]
  },
  {
   "cell_type": "code",
   "execution_count": 24,
   "metadata": {},
   "outputs": [
    {
     "name": "stderr",
     "output_type": "stream",
     "text": [
      "/anaconda2/envs/gitpage/lib/python3.7/site-packages/ipykernel_launcher.py:20: RuntimeWarning: overflow encountered in exp\n"
     ]
    },
    {
     "data": {
      "image/png": "[encoded data removed]",
      "text/plain": [
       "<Figure size 432x288 with 1 Axes>"
      ]
     },
     "metadata": {
      "needs_background": "light"
     },
     "output_type": "display_data"
    }
   ],
   "source": [
    "# instantiate neural network\n",
    "np.random.seed(4)\n",
    "\n",
    "w = [\n",
    "    np.random.uniform(-1, 1, (2, 3))\n",
    "    ,np.random.uniform(-1, 1, (1,2))\n",
    "]\n",
    "\n",
    "snn = SimpleNN(w, [sigmoid, np.sign])\n",
    "\n",
    "# generate random points\n",
    "test_data = np.ones((10000, 3))\n",
    "\n",
    "test_data[:,0] = np.random.uniform(-1000, 200, 10000)\n",
    "test_data[:,1] = np.random.uniform(-2000, 200, 10000)\n",
    "\n",
    "# predict\n",
    "output = snn.output(test_data)\n",
    "\n",
    "# plot\n",
    "df = pd.DataFrame({\n",
    "    'x_1': test_data[:,0]\n",
    "    ,'x_2': test_data[:,1]\n",
    "    ,'y': output.flatten()\n",
    "})\n",
    "\n",
    "c_pos = df.y == 1\n",
    "c_neg = df.y == -1\n",
    "c_zero = df.y == 0\n",
    "\n",
    "fig, ax = plt.subplots()\n",
    "\n",
    "ax.plot(df[c_neg].x_1, df[c_neg].x_2, 'ro', label='neg')\n",
    "ax.plot(df[c_pos].x_1, df[c_pos].x_2, 'bo', label='pos')\n",
    "ax.plot(df[c_zero].x_1, df[c_zero].x_2, 'go', label='error')\n",
    "\n",
    "\n",
    "ax.set_xlim(min(test_data[:,0]), max(test_data[:,0]))\n",
    "ax.set_ylim(min(test_data[:,1]), max(test_data[:,1]))\n",
    "\n",
    "line_1 = SlopeLine(1.675, 4.907)\n",
    "line_2 = SlopeLine(-1.086, 9.790)\n",
    "line_3 = SlopeLine(01.07, 5.689)\n",
    "\n",
    "ax.plot(ax.get_xlim(), line_1.y(np.array(ax.get_xlim())), color='black', linewidth=2)\n",
    "ax.plot(ax.get_xlim(), line_2.y(np.array(ax.get_xlim())), color='black', linewidth=2)\n",
    "ax.plot(ax.get_xlim(), line_3.y(np.array(ax.get_xlim())), color='black', linewidth=2)\n",
    "\n",
    "ax.legend(loc='upper center', bbox_to_anchor=(1.1, 1))\n",
    "plt.show()"
   ]
  },
  {
   "cell_type": "code",
   "execution_count": 17,
   "metadata": {},
   "outputs": [
    {
     "name": "stdout",
     "output_type": "stream",
     "text": [
      "-1324.1286732934916\n"
     ]
    }
   ],
   "source": [
    "x_1 = -1700\n",
    "x_2 = -1500\n",
    "\n",
    "a_1 = w[0][0, 0]*x_1 + w[0][0, 1]*x_2 + w[0][0, 2]\n",
    "a_2 = w[0][1, 0]*x_1 + w[0][1, 1]*x_2 + w[0][1, 2]\n",
    "\n",
    "print(a_2)"
   ]
  },
  {
   "cell_type": "markdown",
   "metadata": {},
   "source": [
    "The issue is that for both a_1 and a_2 you get an overflow error, so it\n",
    "calculates both points as zero. So then we get"
   ]
  },
  {
   "cell_type": "code",
   "execution_count": 43,
   "metadata": {},
   "outputs": [
    {
     "name": "stderr",
     "output_type": "stream",
     "text": [
      "/anaconda2/envs/gitpage/lib/python3.7/site-packages/ipykernel_launcher.py:20: RuntimeWarning: overflow encountered in exp\n"
     ]
    },
    {
     "data": {
      "text/plain": [
       "0.0"
      ]
     },
     "execution_count": 43,
     "metadata": {},
     "output_type": "execute_result"
    }
   ],
   "source": [
    "# this is where it breaks!\n",
    "sigmoid(-710)"
   ]
  },
  {
   "cell_type": "markdown",
   "metadata": {},
   "source": [
    "# Here's the more general setup:\n",
    "\n",
    "Let $\\ell_i$ consist of\n",
    "a layer (list) of neurons $\\{v_{i, 0}, \\ldots, v_{i, n}\\}$.\n",
    "\n",
    "A feed forward neural network consists of layers of neurons $ell_i$ for \n",
    "$i=0, \\ldots, T$ such that the neurons in $\\ell_t$ feed into those in\n",
    "$\\ell_{t+1}$ only. By convention, if $x$ is $k$-dimensional input, then\n",
    "$\\ell_0$ consists of the $k+1$ neurons $n_i$ such that $n_i$ puts out $x_i$ for\n",
    "$i=1,\\ldots,k$ and $n_{k+1}$ outputs $1$. The $0$th layer is also called the\n",
    "_input layer_.  The _output layer_ $\\ell_T$ to consist of a single \n",
    "neuron $v_T$ which aggregates the input from the previous layer into a final\n",
    "prediction for the input data. The layers $\\ell_1, \\ldots, \\ell_{T-1}$ are the\n",
    "_hidden layers_. The _width_ of the network is th width of the widest\n",
    "hidden layer.\n",
    "\n",
    "Suppose that layer $\\ell_{t-1}$ has width $n$ and $\\ell_t$ has width $n$.\n",
    "Let $o_{t-1}$ be the $n$-dimensional output of $\\ell_{t-1}$ and let $a_t$\n",
    "the $m$-dimensional input of $\\ell_t$. If $w^t_{i, j}$ is the weight\n",
    "from $v_{t-1, i}$ to $v_{t, j}$, then it follows that $W^t o_{t-1} = a_t$\n",
    "where $W^t = (w^t_{i, j})$ is an $m\\times n$-dimensional matrix. Two neurons\n",
    "are not connected if the corresponding weight is 0.\n",
    "\n",
    "Let $\\sigma^t$ be the $m$-dimensional vector of activation functions for $\\ell_t$.\n",
    "Then $o_t = \\sigma^t(a_t) = \\sigma^t(W^to_{t-1})$.\n",
    "If each component of each $\\sigma^t$ is identical, we will just write $\\sigma$\n",
    "and the meaning will be clear from context.\n",
    "\n",
    "Note that the smallest neural network which is not equivalent to a single\n",
    "neuron has 1 hidden layer with 2 neurons. Considering the input layer\n",
    "and the output layer, this neural network would have $k+4$ neurons:\n",
    "$k+1$ in the input layer, $2$ in the single hidden layer, and 1 in the output\n",
    "layer.\n",
    "\n",
    "The _architecture_ of the network refers to the structure edges between neurons,\n",
    "which are zero, and which are nonzero, as well as the which activation functions\n",
    "each neuron has."
   ]
  },
  {
   "cell_type": "code",
   "execution_count": null,
   "metadata": {},
   "outputs": [],
   "source": []
  },
  {
   "cell_type": "code",
   "execution_count": null,
   "metadata": {},
   "outputs": [],
   "source": []
  },
  {
   "cell_type": "code",
   "execution_count": null,
   "metadata": {},
   "outputs": [],
   "source": []
  },
  {
   "cell_type": "code",
   "execution_count": null,
   "metadata": {},
   "outputs": [],
   "source": []
  },
  {
   "cell_type": "code",
   "execution_count": null,
   "metadata": {},
   "outputs": [],
   "source": []
  },
  {
   "cell_type": "code",
   "execution_count": null,
   "metadata": {},
   "outputs": [],
   "source": []
  },
  {
   "cell_type": "code",
   "execution_count": null,
   "metadata": {},
   "outputs": [],
   "source": []
  },
  {
   "cell_type": "code",
   "execution_count": null,
   "metadata": {},
   "outputs": [],
   "source": []
  },
  {
   "cell_type": "markdown",
   "metadata": {},
   "source": [
    "## Misc"
   ]
  },
  {
   "cell_type": "code",
   "execution_count": 7,
   "metadata": {},
   "outputs": [],
   "source": [
    "eye_1 = np.array([\n",
    "    [2, 5]\n",
    "    ,[3, 6]\n",
    "    ,[4, 5]\n",
    "    ,[3, 4]\n",
    "    ,[2, 5]\n",
    "])\n",
    "eye_2 = eye_1 + [4, 0]\n",
    "mouth = np.array([[2, 2], [8, 2], [5, 1], [2, 2]])\n",
    "\n",
    "lines_eye_1 = [get_slope_line(eye_1[i], eye_1[i+1]) for i in range(len(eye_1) - 1)]\n",
    "lines_eye_2 = [get_slope_line(eye_2[i], eye_2[i+1]) for i in range(len(eye_2) - 1)]\n",
    "lines_mouth = [get_slope_line(mouth[i], mouth[i+1]) for i in range(len(mouth) - 1)]\n",
    "\n",
    "ineq_eye_1 = [Inequality(lines_eye_1[0].y, '<'), Inequality(lines_eye_1[1].y, '<'),\n",
    "              Inequality(lines_eye_1[2].y, '>'), Inequality(lines_eye_1[3].y, '>')]\n",
    "\n",
    "ineq_eye_2 = [Inequality(lines_eye_2[0].y, '<'), Inequality(lines_eye_2[1].y, '<'),\n",
    "              Inequality(lines_eye_2[2].y, '>'), Inequality(lines_eye_2[3].y, '>')]\n",
    "\n",
    "ineq_mouth = [Inequality(lines_mouth[0].y, '<'), Inequality(lines_mouth[1].y, '>'), \n",
    "              Inequality(lines_mouth[2].y, '>')]\n",
    "\n",
    "df = generate_points(10000, [ineq_eye_1, ineq_eye_2, ineq_mouth])"
   ]
  },
  {
   "cell_type": "code",
   "execution_count": 8,
   "metadata": {},
   "outputs": [
    {
     "data": {
      "image/png": "[encoded data removed]",
      "text/plain": [
       "<Figure size 432x288 with 1 Axes>"
      ]
     },
     "metadata": {
      "needs_background": "light"
     },
     "output_type": "display_data"
    }
   ],
   "source": [
    "c = df['y'] == 1\n",
    "\n",
    "plt.plot(df[c].x_1, df[c].x_2, 'ko')\n",
    "#plt.plot(df[~c].x_1, df[~c].x_2, 'ro')\n",
    "plt.show()"
   ]
  },
  {
   "cell_type": "code",
   "execution_count": 9,
   "metadata": {},
   "outputs": [],
   "source": [
    "center = [5, 5]\n",
    "r = 4\n",
    "\n",
    "offset = -np.pi / 8 + .00001\n",
    "\n",
    "points = r * np.array([[np.cos(i * np.pi / 4 + offset), np.sin(i * np.pi / 4 + offset)] for i in range(9)]) + center"
   ]
  },
  {
   "cell_type": "code",
   "execution_count": 10,
   "metadata": {},
   "outputs": [],
   "source": [
    "inequalities = [[\n",
    "    Inequality(get_slope_line(points[i], points[i+1]).y, '<' if i < 4 else '>') for i in range(8)\n",
    "]]\n",
    "\n",
    "df = generate_points(10000, inequalities)"
   ]
  },
  {
   "cell_type": "code",
   "execution_count": 11,
   "metadata": {},
   "outputs": [
    {
     "data": {
      "image/png": "[encoded data removed]",
      "text/plain": [
       "<Figure size 432x288 with 1 Axes>"
      ]
     },
     "metadata": {
      "needs_background": "light"
     },
     "output_type": "display_data"
    }
   ],
   "source": [
    "c = df['y'] == 1\n",
    "\n",
    "plt.plot(df[c].x_1, df[c].x_2, 'ro')\n",
    "plt.plot(df[~c].x_1, df[~c].x_2, 'ko')\n",
    "plt.show()"
   ]
  },
  {
   "cell_type": "code",
   "execution_count": null,
   "metadata": {},
   "outputs": [],
   "source": []
  }
 ],
 "metadata": {
  "kernelspec": {
   "display_name": "Python [conda env:gitpage] *",
   "language": "python",
   "name": "conda-env-gitpage-py"
  },
  "language_info": {
   "codemirror_mode": {
    "name": "ipython",
    "version": 3
   },
   "file_extension": ".py",
   "mimetype": "text/x-python",
   "name": "python",
   "nbconvert_exporter": "python",
   "pygments_lexer": "ipython3",
   "version": "3.7.6"
  }
 },
 "nbformat": 4,
 "nbformat_minor": 4
}
