{
 "cells": [
  {
   "cell_type": "code",
   "execution_count": 1,
   "metadata": {},
   "outputs": [],
   "source": [
    "import numpy as np\n",
    "import pandas as pd\n",
    "import matplotlib.pyplot as plt\n",
    "from IPython.display import HTML\n",
    "from matplotlib.animation import FuncAnimation\n",
    "import logging"
   ]
  },
  {
   "cell_type": "code",
   "execution_count": 2,
   "metadata": {},
   "outputs": [],
   "source": [
    "# Functions for lines\n",
    "class SlopeLine():\n",
    "    \"\"\" a line defined by slope and intercept \"\"\"\n",
    "    def __init__(self, m, b):\n",
    "        self.m = m\n",
    "        self.b = b\n",
    "        \n",
    "    def y(self, x):\n",
    "        return self.m * x + self.b\n",
    "    \n",
    "    def x(self, y):\n",
    "        return (y - self.b) / self.m\n",
    "\n",
    "def get_slope_line(point_1, point_2):\n",
    "    \"\"\"returns slope line object with line determined by the points\n",
    "    where point_i = (x, y)\"\"\"\n",
    "    \n",
    "    m = (point_2[1] - point_1[1]) / (point_2[0] - point_1[0])\n",
    "    b = point_1[1] - m * point_1[0]\n",
    "    \n",
    "    return SlopeLine(m, b)\n",
    "\n",
    "# Functions to generate points\n",
    "class Inequality():\n",
    "    \"\"\"\n",
    "    given a function f(x) of one variable.\n",
    "    we will test y < f(x) or y > f(x)\n",
    "    for a point (x, y)\n",
    "    \"\"\"\n",
    "    def __init__(self, func, ineq_type):\n",
    "        self.func = func\n",
    "        \n",
    "        if ineq_type == '<':\n",
    "            self.eval = self.less_than\n",
    "        elif ineq_type == '>':\n",
    "            self.eval = self.greater_than\n",
    "        else:\n",
    "            raise Exception(\"ineq_type must be '>' or '<'\")\n",
    "        \n",
    "    def less_than(self, point):\n",
    "        return point[:,1] < self.func(point[:,0])\n",
    "    \n",
    "    def greater_than(self, point):\n",
    "        return point[:,1] > self.func(point[:,0])\n",
    "    \n",
    "\n",
    "def generate_points(n, inequality_lists, random_seed=47):\n",
    "    \"\"\" get n points in the 10x10 square classified by\n",
    "    inequalities.\n",
    "    \n",
    "    inequality_lists should be a list of lists of inequalities.\n",
    "    \n",
    "    Points are evaluated to the positive class (1) by the\n",
    "    interior lists if all the inequalities in that list\n",
    "    are satisfied. Then, if any of the the interior lists\n",
    "    return true, the point is classified as true.\n",
    "    \n",
    "    \"\"\"\n",
    "    np.random.seed(random_seed)\n",
    "    \n",
    "    data_x = np.random.uniform(0, 10, (n, 2))\n",
    "    \n",
    "    def evaluate_list(inequality_list):\n",
    "        \n",
    "        evals = np.array([ineq.eval(data_x) for ineq in inequality_list]) \\\n",
    "                  .transpose()\n",
    "        return np.array([all(p) for p in evals])\n",
    "    \n",
    "    all_evals = np.array([evaluate_list(il) for il in inequality_lists]) \\\n",
    "                  .transpose()\n",
    "    \n",
    "    data_y = np.array([1 if any(p) else -1 for p in all_evals])\n",
    "    \n",
    "    data = {\n",
    "        'x_1': data_x[:,0]\n",
    "        ,'x_2': data_x[:,1]\n",
    "        ,'y': data_y\n",
    "    }\n",
    "    return pd.DataFrame(data)"
   ]
  },
  {
   "cell_type": "code",
   "execution_count": 3,
   "metadata": {},
   "outputs": [
    {
     "data": {
      "image/png": "[encoded data removed]",
      "text/plain": [
       "<Figure size 432x288 with 1 Axes>"
      ]
     },
     "metadata": {
      "needs_background": "light"
     },
     "output_type": "display_data"
    }
   ],
   "source": [
    "eye_1 = np.array([\n",
    "    [2, 5]\n",
    "    ,[3, 6]\n",
    "    ,[4, 5]\n",
    "    ,[3, 4]\n",
    "    ,[2, 5]\n",
    "])\n",
    "eye_2 = eye_1 + [4, 0]\n",
    "mouth = np.array([[2, 2], [8, 2], [5, 1], [2, 2]])\n",
    "\n",
    "lines_eye_1 = [get_slope_line(eye_1[i], eye_1[i+1]) for i in range(len(eye_1) - 1)]\n",
    "lines_eye_2 = [get_slope_line(eye_2[i], eye_2[i+1]) for i in range(len(eye_2) - 1)]\n",
    "lines_mouth = [get_slope_line(mouth[i], mouth[i+1]) for i in range(len(mouth) - 1)]\n",
    "\n",
    "ineq_eye_1 = [Inequality(lines_eye_1[0].y, '<'), Inequality(lines_eye_1[1].y, '<'),\n",
    "              Inequality(lines_eye_1[2].y, '>'), Inequality(lines_eye_1[3].y, '>')]\n",
    "\n",
    "ineq_eye_2 = [Inequality(lines_eye_2[0].y, '<'), Inequality(lines_eye_2[1].y, '<'),\n",
    "              Inequality(lines_eye_2[2].y, '>'), Inequality(lines_eye_2[3].y, '>')]\n",
    "\n",
    "ineq_mouth = [Inequality(lines_mouth[0].y, '<'), Inequality(lines_mouth[1].y, '>'), \n",
    "              Inequality(lines_mouth[2].y, '>')]\n",
    "\n",
    "df = generate_points(10000, [ineq_eye_1, ineq_eye_2, ineq_mouth])\n",
    "\n",
    "c = df['y'] == 1\n",
    "\n",
    "plt.plot(df[c].x_1, df[c].x_2, 'ko')\n",
    "#plt.plot(df[~c].x_1, df[~c].x_2, 'ro')\n",
    "plt.show()"
   ]
  },
  {
   "cell_type": "code",
   "execution_count": 4,
   "metadata": {},
   "outputs": [
    {
     "data": {
      "image/png": "[encoded data removed]",
      "text/plain": [
       "<Figure size 432x288 with 1 Axes>"
      ]
     },
     "metadata": {
      "needs_background": "light"
     },
     "output_type": "display_data"
    }
   ],
   "source": [
    "center = [5, 5]\n",
    "r = 4\n",
    "\n",
    "offset = -np.pi / 8 + .00001\n",
    "\n",
    "points = r * np.array([[np.cos(i * np.pi / 4 + offset), np.sin(i * np.pi / 4 + offset)] for i in range(9)]) + center\n",
    "\n",
    "inequalities = [[\n",
    "    Inequality(get_slope_line(points[i], points[i+1]).y, '<' if i < 4 else '>') for i in range(8)\n",
    "]]\n",
    "\n",
    "df = generate_points(10000, inequalities)\n",
    "\n",
    "c = df['y'] == 1\n",
    "\n",
    "plt.plot(df[c].x_1, df[c].x_2, 'ro')\n",
    "plt.plot(df[~c].x_1, df[~c].x_2, 'ko')\n",
    "plt.show()"
   ]
  },
  {
   "cell_type": "code",
   "execution_count": 5,
   "metadata": {},
   "outputs": [],
   "source": [
    "# here are some activation functions and derivatives we might use\n",
    "def const(x):\n",
    "    if type(x) == np.ndarray:\n",
    "        return np.ones(x.shape)\n",
    "    elif type(x) == list:\n",
    "        return np.ones(len(x))\n",
    "    else:\n",
    "        return 1\n",
    "    \n",
    "def const_prime(x):\n",
    "    if type(x) == np.ndarray:\n",
    "        return np.zeros(x.shape)\n",
    "    elif type(x) == list:\n",
    "        return np.zeros(len(x))\n",
    "    else:\n",
    "        return 0\n",
    "    \n",
    "def sigmoid(x):\n",
    "    return 1.0/(1 + np.exp(-x))\n",
    "\n",
    "def sigmoid_prime(x):\n",
    "    return sigmoid(x) * (1-sigmoid(x))\n",
    "\n",
    "def elu(x, a=0.01):\n",
    "    return x * (x>0) + a * (np.exp(x) - 1) * (x<=0)\n",
    "\n",
    "def elu_prime(x, a=0.01):\n",
    "    return 1 * (x>0) + a * np.exp(x) * (x<=0)\n",
    "\n",
    "def relu(x):\n",
    "    return x * (x>0) + 0 * (x<=0)\n",
    "\n",
    "def relu_prime(x):\n",
    "    return 1 * (x>0) + 0 * (x<=0)\n",
    "\n",
    "def sign(x):\n",
    "    return 1 * (x > 0) + -1 * (x <= 0)"
   ]
  },
  {
   "cell_type": "code",
   "execution_count": null,
   "metadata": {},
   "outputs": [],
   "source": []
  }
 ],
 "metadata": {
  "kernelspec": {
   "display_name": "Python (gitpage)",
   "language": "python",
   "name": "gitpage"
  },
  "language_info": {
   "codemirror_mode": {
    "name": "ipython",
    "version": 3
   },
   "file_extension": ".py",
   "mimetype": "text/x-python",
   "name": "python",
   "nbconvert_exporter": "python",
   "pygments_lexer": "ipython3",
   "version": "3.7.6"
  }
 },
 "nbformat": 4,
 "nbformat_minor": 4
}
