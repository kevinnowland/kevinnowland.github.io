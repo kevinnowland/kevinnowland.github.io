{
 "cells": [
  {
   "cell_type": "markdown",
   "metadata": {},
   "source": [
    "---\n",
    "layout: code-post\n",
    "title: How does training work?\n",
    "tags: [neural nets]\n",
    "---\n",
    "\n",
    "Two questions:\n",
    "- Is SGD purely statistical? \n",
    "    - can we just ignore it and do some approximation of it \n",
    "    by randomly moving around in a way that mimics SGD? (given an initialization scheme)\n",
    "    - Aka how correlated are the changes of weights at a given level? Same node vs different node\n",
    "    - What is the distribution of the changes for a given weight? Does it change by level? Which\n",
    "    levels are most volatile? Does the back level change the most randomly and the top level\n",
    "    the most consistently?\n",
    "- How can we visualize training? Consider ReLU functions since these are almost the identity.\n",
    "    - Picture grid after first activation\n",
    "    - Picture grid after first two hidden layers\n",
    "    - After three layers???"
   ]
  },
  {
   "cell_type": "code",
   "execution_count": null,
   "metadata": {},
   "outputs": [],
   "source": []
  }
 ],
 "metadata": {
  "kernelspec": {
   "display_name": "Python (gitpage)",
   "language": "python",
   "name": "gitpage"
  },
  "language_info": {
   "codemirror_mode": {
    "name": "ipython",
    "version": 3
   },
   "file_extension": ".py",
   "mimetype": "text/x-python",
   "name": "python",
   "nbconvert_exporter": "python",
   "pygments_lexer": "ipython3",
   "version": "3.7.6"
  }
 },
 "nbformat": 4,
 "nbformat_minor": 4
}
