{
 "cells": [
  {
   "cell_type": "markdown",
   "metadata": {},
   "source": [
    "---\n",
    "layout: code-post\n",
    "title: Pedicting rooting interests on reddit\n",
    "description: Going to see if we can predict neutral fan rooting interests from reddit posts.\n",
    "tags: [neural nets]\n",
    "---\n",
    "\n",
    "In this notebook / post I'm going to try to see if we can predict who a\n",
    "supposedly neutral fan is rooting for in the (as of this writing) about to\n",
    "end Lakers-Heat NBA finals. To do this, I'm going to attempt to scrape posts\n",
    "from game threads by Heat and Lakers fans to train an LSTM based model. As long\n",
    "as I can scrape the flair from from the reddit API, this should be doable. If\n",
    "not, then I will have to scrape from the team specific subreddits and try that\n",
    "way.\n",
    "\n",
    "I'm going to write the disclaimer here: I don't think I'll find much signal in\n",
    "these posts. Many of the posts will be pretty neutral, so it'll be hard to\n",
    "distinguish fans based off a single post. The most likely scenario to me is that\n",
    "it picks up on the player names for each team and guess based on that which \n",
    "might work for a game not between the two teams. But let's find out! I'm going\n",
    "to commit the notebook with this caveat first (check the commits!).\n",
    "\n",
    "Outline:\n",
    "- Data Collection\n",
    "  - PRAW - Exploring Reddit\n",
    "  - Pushshift - Gathering data\n",
    "  - Preparing to clean - Data exploration\n",
    "  - Cleaning and saving data\n",
    "- Modeling\n",
    "  - Dataset\n",
    "  - Model\n",
    "  - Training\n",
    "- Test set predictions\n",
    "  - Get and predict test set\n",
    "  - Explore posts and users\n",
    "\n",
    "## Data Collection\n",
    "\n",
    "If you don't know what [reddit](https://reddit.com/) is, it's a website that is\n",
    "organized into communities called _subreddits_. The site has _users_ which belong to\n",
    "multiple subreddits. Each subreddit contains a sequence of _submissions_ (also called\n",
    "_posts_) which can be links\n",
    "to other sites, images, or text. Each post contains _comments_ which are text only\n",
    "an are made by the users. The _comment section_ is organized as a forest of trees\n",
    "wich top level comments and then comments nested below each top level comment. Each\n",
    "user can have a _flair_ which varies with the subreddit they are posting in. The\n",
    "flair and username are posted along with each comment. The flair will contains a\n",
    "small image as well as text. Not every user has a flair associated to it for every\n",
    "subreddit to which they belong. It is not always required to be a member of the\n",
    "subreddit in order to post, although this varies by community.\n",
    "\n",
    "We will be using the NBA subreddit which as of this writing has ~3.5 million users.\n",
    "Users in this subreddit have flairs which denote which team the user is a supporter\n",
    "of. Mine is for the Cleveland Cavaliers.\n",
    "\n",
    "### PRAW - Exploring Reddit\n",
    "\n",
    "In order to access reddit, we need to have a reddit account and then create an application\n",
    "with that account as a developer of the application. Go to [the apps page](https://www.reddit.com/prefs/apps)\n",
    "to create an application. (Please read the terms and conditions!)\n",
    "You need to store the name of the app as the `user_agent`, the\n",
    "`client_id` is the 14 character string that is below the app name once it's created, \n",
    "you'll have a 27 character secret secret that is generated and is the `client_secret`, \n",
    "and you'll need your `username`. I have put these credentials in an encrypted YAML file\n",
    "that I created using ansible-vault.\n",
    "\n",
    "We will be using [PRAW](https://github.com/praw-dev/praw), the Python Reddit API\n",
    "Wrapper."
   ]
  },
  {
   "cell_type": "code",
   "execution_count": 279,
   "metadata": {},
   "outputs": [],
   "source": [
    "import praw\n",
    "import yaml\n",
    "from ansible_vault import Vault\n",
    "from getpass import getpass"
   ]
  },
  {
   "cell_type": "code",
   "execution_count": 10,
   "metadata": {},
   "outputs": [
    {
     "name": "stdin",
     "output_type": "stream",
     "text": [
      " ····················\n"
     ]
    }
   ],
   "source": [
    "vault = Vault(getpass())\n",
    "with open('redditcreds.yml', 'r') as f:\n",
    "    reddit_creds = vault.load(f.read())\n",
    "\n",
    "reddit = praw.Reddit(username=reddit_creds['username'],\n",
    "                     user_agent=reddit_creds['user_agent'],\n",
    "                     client_id=reddit_creds['client_id'],\n",
    "                     client_secret=reddit_creds['client_secret'])"
   ]
  },
  {
   "cell_type": "markdown",
   "metadata": {},
   "source": [
    "Now we get into the [NBA subreddit](https://www.reddit.com/r/nba) and search for posts which are _game threads_\n",
    "to which users will post while a game is ongoing. These are posted automatically and so they have a \n",
    "predictible title format which makes searching for them and then filtering the received submisisons\n",
    "by title easier."
   ]
  },
  {
   "cell_type": "code",
   "execution_count": 76,
   "metadata": {},
   "outputs": [],
   "source": [
    "subreddit = reddit.subreddit('nba')\n",
    "\n",
    "submissions = subreddit.search(query='title:\"GAME THREAD\"',\n",
    "                               time_filter=\"month\")\n",
    "game_threads = [\n",
    "    s for s in submissions \n",
    "    if\n",
    "        s.title[:11] == 'GAME THREAD' \n",
    "        and (\"Lakers\" in s.title or \"Heat\" in s.title)\n",
    "]"
   ]
  },
  {
   "cell_type": "code",
   "execution_count": 77,
   "metadata": {},
   "outputs": [
    {
     "name": "stdout",
     "output_type": "stream",
     "text": [
      "GAME THREAD: Miami Heat (44-29) @ Los Angeles Lakers (52-19) - (October 09, 2020)\n",
      "GAME THREAD: Miami Heat (44-29) @ Los Angeles Lakers (52-19) - (September 30, 2020)\n",
      "GAME THREAD: Los Angeles Lakers (52-19) @ Miami Heat (44-29) - (October 06, 2020)\n",
      "GAME THREAD: Los Angeles Lakers (52-19) @ Miami Heat (44-29) - (October 04, 2020)\n",
      "GAME THREAD: Miami Heat (44-29) @ Los Angeles Lakers (52-19) - (October 02, 2020)\n",
      "GAME THREAD: Denver Nuggets (46-27) @ Los Angeles Lakers (52-19) - (September 26, 2020)\n",
      "GAME THREAD: Los Angeles Lakers (52-19) @ Denver Nuggets (46-27) - (September 24, 2020)\n",
      "GAME THREAD: Los Angeles Lakers (52-19) @ Denver Nuggets (46-27) - (September 22, 2020)\n",
      "GAME THREAD: Denver Nuggets (46-27) @ Los Angeles Lakers (52-19) - (September 18, 2020)\n",
      "GAME THREAD: Boston Celtics (48-24) @ Miami Heat (44-29) - (September 27, 2020)\n",
      "GAME THREAD: Denver Nuggets (46-27) @ Los Angeles Lakers (52-19) - (September 20, 2020)\n",
      "GAME THREAD: Miami Heat (44-29) @ Boston Celtics (48-24) - (September 25, 2020)\n",
      "GAME THREAD: Boston Celtics (48-24) @ Miami Heat (44-29) - (September 23, 2020)\n",
      "GAME THREAD: Miami Heat (44-29) @ Boston Celtics (48-24) - (September 15, 2020)\n",
      "GAME THREAD: Miami Heat (44-29) @ Boston Celtics (48-24) - (September 17, 2020)\n",
      "GAME THREAD: Boston Celtics (48-24) @ Miami Heat (44-29) - (September 19, 2020)\n",
      "GAME THREAD: Houston Rockets (44-28) @ Los Angeles Lakers (52-19) - (September 12, 2020)\n",
      "GAME THREAD: Los Angeles Lakers (52-19) @ Houston Rockets (44-28) - (September 10, 2020)\n"
     ]
    }
   ],
   "source": [
    "for t in game_threads:\n",
    "    print(t.title)"
   ]
  },
  {
   "cell_type": "markdown",
   "metadata": {},
   "source": [
    "The comments for a submission are contained in PRAW `CommentForest`. If we do not\n",
    "care about the structure, we can flatten this to a list. Note that the list\n",
    "will contain both `Comment` objects as well as `MoreComments` objectcs. It is possible to replace\n",
    "the `MoreComments` objects using the `replace_more` function, but each replacement\n",
    "requires calling the reddit API. By default, 32 of the `MoreComments` objects will\n",
    "be replaced, which I will keep but I will also limit to those which contain at least\n",
    "5 more comments in them. Doing this removes all `MoreComments` instances from\n",
    "the list of comments."
   ]
  },
  {
   "cell_type": "code",
   "execution_count": 93,
   "metadata": {},
   "outputs": [
    {
     "name": "stdout",
     "output_type": "stream",
     "text": [
      "GAME THREAD: Miami Heat (44-29) @ Los Angeles Lakers (52-19) - (October 09, 2020)\n",
      "number of comments: 28455\n"
     ]
    }
   ],
   "source": [
    "game_thread = game_threads[0]\n",
    "print(game_thread.title)\n",
    "print(\"number of comments:\", game_thread.num_comments)\n",
    "game_thread.comments.replace_more(limit=32, threshold=5)\n",
    "comments = game_thread.comments.list()"
   ]
  },
  {
   "cell_type": "markdown",
   "metadata": {},
   "source": [
    "And here is a random comment:"
   ]
  },
  {
   "cell_type": "code",
   "execution_count": 168,
   "metadata": {},
   "outputs": [
    {
     "name": "stdout",
     "output_type": "stream",
     "text": [
      "comment author:    StoneColdAM\n",
      "comment score:     28 (28-0)\n",
      "author flair text: Lakers\n",
      "body:\n",
      "\n",
      " Dwight Howard strategy: get Jimmy Butler ejected.\n"
     ]
    }
   ],
   "source": [
    "c = comments[10]\n",
    "print('comment author:   ', c.author.name)\n",
    "print('comment score:    ', c.score, '({}-{})'.format(c.ups, c.downs))\n",
    "print('author flair text:', c.author_flair_text)\n",
    "print('body:\\n\\n', c.body)"
   ]
  },
  {
   "cell_type": "markdown",
   "metadata": {},
   "source": [
    "For the training set, the goal will be to find authors which are flaired as Lakers or Heat or have\n",
    "flair text that contains LAL or MIA."
   ]
  },
  {
   "cell_type": "code",
   "execution_count": 178,
   "metadata": {},
   "outputs": [
    {
     "name": "stdout",
     "output_type": "stream",
     "text": [
      "number of comments by Lakers users: 1042\n",
      "number of comments by Heat users  : 275\n"
     ]
    }
   ],
   "source": [
    "lakers_comments = [\n",
    "    c for c in comments\n",
    "    if\n",
    "        c.author_flair_text is not None\n",
    "        and (\n",
    "            c.author_flair_text == 'Lakers'\n",
    "            or '[LAL]' in c.author_flair_text\n",
    "        )\n",
    "]\n",
    "print('number of comments by Lakers users:', len(lakers_comments))\n",
    "\n",
    "heat_comments = [\n",
    "    c for c in comments\n",
    "    if\n",
    "        c.author_flair_text is not None\n",
    "        and (\n",
    "            c.author_flair_text == 'Heat'\n",
    "            or '[MIA]' in c.author_flair_text\n",
    "        )\n",
    "]\n",
    "print('number of comments by Heat users  :', len(heat_comments))"
   ]
  },
  {
   "cell_type": "markdown",
   "metadata": {},
   "source": [
    "### Pushshift - Gathering data\n",
    "\n",
    "It turns out that PRAW is fairly limited and the [Pushshift API](https://github.com/pushshift/api) is\n",
    "more powerful than it. There is a wrapper for this API called [PSAW](https://github.com/dmarx/psaw).\n",
    "PSAW and PRAW interact with each other nicely: if you pass a PRAW `Reddit` instance to PSAW's\n",
    "`PushShiftAPI` class, pushshift gathers the IDs you want but then returns PRAW objects."
   ]
  },
  {
   "cell_type": "code",
   "execution_count": 274,
   "metadata": {},
   "outputs": [],
   "source": [
    "from psaw import PushshiftAPI\n",
    "import datetime as dt\n",
    "\n",
    "api = PushshiftAPI(reddit)\n",
    "\n",
    "# we'll search month by month for submissions\n",
    "game_threads = []\n",
    "\n",
    "months = [\n",
    "    int(dt.datetime(2019, 10, 19).timestamp()),\n",
    "    int(dt.datetime(2019, 11, 1).timestamp()),\n",
    "    int(dt.datetime(2019, 12, 1).timestamp()),\n",
    "    int(dt.datetime(2020, 1, 1).timestamp()),\n",
    "    int(dt.datetime(2020, 2, 1).timestamp()),\n",
    "    int(dt.datetime(2020, 3, 1).timestamp()),\n",
    "    int(dt.datetime(2020, 4, 1).timestamp()),\n",
    "    int(dt.datetime(2020, 5, 1).timestamp()),\n",
    "    int(dt.datetime(2020, 6, 1).timestamp()),\n",
    "    int(dt.datetime(2020, 7, 1).timestamp()),\n",
    "    int(dt.datetime(2020, 8, 1).timestamp()),\n",
    "    int(dt.datetime(2020, 9, 1).timestamp()),\n",
    "    int(dt.datetime(2020, 10, 1).timestamp()),\n",
    "    int(dt.datetime(2020, 11, 1).timestamp())\n",
    "]\n",
    "\n",
    "for i in range(len(months)-1):\n",
    "    submissions = list(api.search_submissions(after=months[i],\n",
    "                                              before=months[i+1],\n",
    "                                              q='game thread',\n",
    "                                              subreddit='nba',\n",
    "                                              author='NBA_MOD',\n",
    "                                              limit=5000))\n",
    "    \n",
    "    game_threads += [\n",
    "        s for s in submissions\n",
    "        if\n",
    "            s.title[:11] == 'GAME THREAD'\n",
    "            and (\"Lakers\" in s.title or \"Heat\" in s.title)\n",
    "    ]"
   ]
  },
  {
   "cell_type": "markdown",
   "metadata": {},
   "source": [
    "Now that we have game threads, it's time to collect relevant comments from each game.\n",
    "We'll be using PRAW for this."
   ]
  },
  {
   "cell_type": "code",
   "execution_count": 504,
   "metadata": {},
   "outputs": [
    {
     "name": "stdout",
     "output_type": "stream",
     "text": [
      "scouring game thread: 180/180\n",
      "number of lakers comments: 47535\n",
      "  number of heat comments: 12907\n"
     ]
    }
   ],
   "source": [
    "from IPython.display import clear_output\n",
    "\n",
    "lakers_comments = []\n",
    "heat_comments = []\n",
    "\n",
    "num_game_threads = len(game_threads)\n",
    "i = 1\n",
    "\n",
    "def check_lakers(comment):\n",
    "    if comment.author_flair_text is not None:\n",
    "        if comment.author_flair_text == 'Lakers':\n",
    "            return True\n",
    "        if '[LAL]' in comment.author_flair_text:\n",
    "            return True\n",
    "    return False\n",
    "\n",
    "def check_heat(comment):\n",
    "    if comment.author_flair_text is not None:\n",
    "        if comment.author_flair_text == 'Heat':\n",
    "            return True\n",
    "        if '[MIA]' in comment.author_flair_text:\n",
    "            return True\n",
    "    return False\n",
    "\n",
    "for game_thread in game_threads:\n",
    "    \n",
    "    clear_output(wait=True)\n",
    "    print('scouring game thread: {}/{}'.format(i, num_game_threads))\n",
    "    print('number of lakers comments:', len(lakers_comments))\n",
    "    print('  number of heat comments:', len(heat_comments))\n",
    "    \n",
    "    has_lakers = 'Lakers' in game_thread.title\n",
    "    has_heat = 'Heat' in game_thread.title\n",
    "    \n",
    "    # NOTE: this part takes a long time\n",
    "    game_thread.comments.replace_more(limit=32, threshold=2)\n",
    "    comments = game_thread.comments.list()\n",
    "    \n",
    "    if has_lakers and has_heat:\n",
    "        lakers = []\n",
    "        heat = []\n",
    "        \n",
    "        for c in comments:\n",
    "            if check_lakers(c) and len(c.body.split()) > 3:\n",
    "                lakers += [c]\n",
    "            elif check_heat(c) and len(c.body.split()) > 3:\n",
    "                heat += [c]\n",
    "                \n",
    "        lakers_comments += lakers\n",
    "        heat_comments += heat\n",
    "        \n",
    "    elif has_lakers:\n",
    "        lakers =[]\n",
    "        \n",
    "        for c in comments:\n",
    "            if check_lakers(c) and len(c.body.split()) > 3:\n",
    "                lakers += [c]\n",
    "                \n",
    "        lakers_comments += lakers\n",
    "      \n",
    "    elif has_heat:\n",
    "        heat = []\n",
    "        \n",
    "        for c in comments:\n",
    "            if check_heat(c) and len(c.body.split()) > 3:\n",
    "                heat += [c]\n",
    "                \n",
    "        heat_comments += heat\n",
    "        \n",
    "    i += 1"
   ]
  },
  {
   "cell_type": "code",
   "execution_count": 505,
   "metadata": {},
   "outputs": [],
   "source": [
    "import pickle\n",
    "\n",
    "with open('data/lakers_comments.pkl', 'wb') as f:\n",
    "    pickle.dump(lakers_comments, f)\n",
    "    \n",
    "with open('data/heat_comments.pkl', 'wb') as f:\n",
    "    pickle.dump(heat_comments, f)"
   ]
  },
  {
   "cell_type": "markdown",
   "metadata": {},
   "source": [
    "### Perparing to clean - data exploration\n",
    "\n",
    "Cleaning text is tedious and many people have already though about what to do. \n",
    "I am taking code from [this blog post](https://hub.packtpub.com/clean-social-media-data-analysis-python/).\n",
    "The cleaning we're doing is just about replacing weird and unwanted characters and then\n",
    "lemmatizing.\n",
    "\n",
    "I have played around with the stop words a bit. Since this is really a form of\n",
    "sentiment analysis, I put back in the negations. Since this is basketball, I also\n",
    "want numbers such as two and three to be allowed. I want some ofthe directions like\n",
    "up and down and over and under.\n",
    "\n",
    "Since I'm going to use spaCy's vector encoding for the words instead of a dummy\n",
    "one-hot encoding, I thought about replacing the player names with a placeholder\n",
    "such as `heatplayer`, but this appears to be mostly unnecessary, as the vectorizer\n",
    "that is build in already knows names such as `lebron`. One can confirm this with\n",
    "`nlp('lebron')[0].vector` and see it is not hte zero vector."
   ]
  },
  {
   "cell_type": "code",
   "execution_count": 1,
   "metadata": {},
   "outputs": [],
   "source": [
    "# let's reload things as needed\n",
    "\n",
    "import pickle\n",
    "\n",
    "with open('data/lakers_comments.pkl', 'rb') as f:\n",
    "    lakers_comments = pickle.load(f)\n",
    "    \n",
    "with open('data/heat_comments.pkl', 'rb') as f:\n",
    "    heat_comments = pickle.load(f)"
   ]
  },
  {
   "cell_type": "code",
   "execution_count": 2,
   "metadata": {},
   "outputs": [],
   "source": [
    "import re\n",
    "import itertools\n",
    "import spacy\n",
    "\n",
    "nlp = spacy.load('en_core_web_lg')\n",
    "\n",
    "regexes = {\n",
    "    'weird_chars': re.compile(r'[\\?;\\(\\)\\\\.,\\!:–\\-\\\"\\[\\]“”]'),\n",
    "    'newlines': re.compile(r'\\n'),\n",
    "    'html': re.compile(r'<[^<]+/>', re.MULTILINE),\n",
    "    'urls': re.compile(r'^https?://.*[rn]*', re.MULTILINE),\n",
    "    'spaces': re.compile(r'\\s{2,}'),\n",
    "    'u': re.compile(r'\\bu\\b')\n",
    "}\n",
    "\n",
    "allowed_stops = ['no', 'never', 'not', 'none', 'up', 'down', \n",
    "                 'back', 'over', 'under', 'two', 'three']\n",
    "stop_words = [\n",
    "    word for word in nlp.Defaults.stop_words \n",
    "    if word not in allowed_stops\n",
    "]\n",
    "stop_words += ['-PRON-']\n",
    "\n",
    "def clean_text(text):\n",
    "    \"\"\" substitute things based on the regexes above \"\"\"\n",
    "    text = text.lower()\n",
    "    \n",
    "    # custom replacements we decided on\n",
    "    text = text.replace('`', '\\'')\n",
    "    text = text.replace('’', '\\'')\n",
    "    \n",
    "    text  = text.replace(\"won't\", \"will not\")\n",
    "    text  = text.replace(\"n't\", \" not\")\n",
    "    \n",
    "    text = regexes['u'].sub('you', text)\n",
    "    text = regexes['html'].sub(' ', text)\n",
    "    text = regexes['urls'].sub(' ', text)\n",
    "    text = regexes['weird_chars'].sub(' ', text)\n",
    "    text = regexes['newlines'].sub(' ', text)\n",
    "    text = regexes['spaces'].sub(' ', text)\n",
    "    \n",
    "    # removing the multiletters such as 'happppy' -> 'happy'\n",
    "    text = ''.join(''.join(s)[:2] for _, s in itertools.groupby(text))\n",
    "    \n",
    "    # lemmatize\n",
    "    text = ' '.join([word.lemma_ for word in nlp(text)])\n",
    "    \n",
    "    # remove stopwords\n",
    "    text = ' '.join([w for w in text.split(' ') if w not in stop_words])\n",
    "    \n",
    "    return text"
   ]
  },
  {
   "cell_type": "markdown",
   "metadata": {},
   "source": [
    "Now let's just print some examples of what we end up with when cleaning the text:"
   ]
  },
  {
   "cell_type": "code",
   "execution_count": 3,
   "metadata": {},
   "outputs": [
    {
     "name": "stdout",
     "output_type": "stream",
     "text": [
      "| He's coming back from an injury.\n",
      "|\t\t-----------\n",
      "| come back injury\n",
      "\n",
      "\n",
      "\n",
      "| Y'all thought that we were joking about the championship?\n",
      "|\t\t-----------\n",
      "| think joke championship\n",
      "\n",
      "\n",
      "\n",
      "| Flagrant 2 requires it to be excessively violent, which it pretty clearly wasn’t. Easy flagrant 1 call\n",
      "|\t\t-----------\n",
      "| flagrant 2 require excessively violent pretty clearly not easy flagrant 1\n",
      "\n",
      "\n",
      "\n",
      "| Get AD back in pls\n",
      "|\t\t-----------\n",
      "| ad back pls\n",
      "\n",
      "\n",
      "\n",
      "| Are we going to win a fucking championship? I can't believe this. I thought the warriors would be on top forever (and then some).\n",
      "|\t\t-----------\n",
      "| win fucking championship not believe think warrior forever\n"
     ]
    }
   ],
   "source": [
    "def print_cleantext(text):\n",
    "    print('|', text)\n",
    "    print('|\\t\\t-----------')\n",
    "    print('|',clean_text(text))\n",
    "\n",
    "print_cleantext(heat_comments[50].body)\n",
    "print('\\n\\n')\n",
    "print_cleantext(heat_comments[1047].body)\n",
    "print('\\n\\n')\n",
    "print_cleantext(lakers_comments[500].body)\n",
    "print('\\n\\n')\n",
    "print_cleantext(lakers_comments[-200].body)\n",
    "print('\\n\\n')\n",
    "print_cleantext(lakers_comments[14477].body)"
   ]
  },
  {
   "cell_type": "markdown",
   "metadata": {},
   "source": [
    "### Cleaning and saving data\n",
    "\n",
    "Now we do initiate the (long?) work of converting the comments into vectors which we\n",
    "can then save. We have approximately 60,000 comments total. Just for a ballpark estimate,\n",
    "let's suppose there are 10 words per comment. Thus we need to store about 600k vectors.\n",
    "How much space does each vector take? We can figure out as follows:"
   ]
  },
  {
   "cell_type": "code",
   "execution_count": 571,
   "metadata": {},
   "outputs": [
    {
     "name": "stdout",
     "output_type": "stream",
     "text": [
      "Vector size in bytes: 96\n",
      "Estimate size to store: 57.6 MB\n"
     ]
    }
   ],
   "source": [
    "import sys\n",
    "\n",
    "vector_size = sys.getsizeof(nlp('lebron')[0].vector)\n",
    "print('Vector size in bytes:', vector_size)\n",
    "print('Estimate size to store:', vector_size * 600_000 / 1e6, 'MB')"
   ]
  },
  {
   "cell_type": "markdown",
   "metadata": {},
   "source": [
    "This is well within our ability to store things in memory or on disk even if we were off in our average comment size\n",
    "by a factor of ten, so no worries there for this application. We'll store the data as a list of tuples where each\n",
    "tuple contains both a numpy array of shape (n, 300) where n is the number of words in the comment and a 0 or 1\n",
    "depending on if the comment is from a Heat fan (0) or a Lakers fan (1). Previously we guaranteed that the comments\n",
    "had a certain length, but stop word removal will shorten comments, so we will drop some comments here if there are \n",
    "not enough words after cleaning."
   ]
  },
  {
   "cell_type": "code",
   "execution_count": 4,
   "metadata": {},
   "outputs": [],
   "source": [
    "import numpy as np\n",
    "\n",
    "def comment_to_numpy_array(comment, min_words=3):\n",
    "    \n",
    "    # first step is to clean the comment\n",
    "    clean_comment = clean_text(comment)\n",
    "    \n",
    "    # next is to get an nlp object\n",
    "    nlp_comment = nlp(clean_comment)\n",
    "    \n",
    "    # get nonzero vectors\n",
    "    word_vectors = [\n",
    "        word.vector for word in nlp_comment\n",
    "        if np.count_nonzero(word.vector) > 0\n",
    "    ]\n",
    "    \n",
    "    # return sufficiently long comments\n",
    "    if len(word_vectors) >= min_words:\n",
    "        return word_vectors\n",
    "    else:\n",
    "        return None"
   ]
  },
  {
   "cell_type": "code",
   "execution_count": 598,
   "metadata": {},
   "outputs": [],
   "source": [
    "initial_lakers_comments = [\n",
    "    comment_to_numpy_array(comment.body) for comment in lakers_comments\n",
    "]\n",
    "\n",
    "lakers_vector_comments = [\n",
    "    (comment, 1) for comment in initial_lakers_comments\n",
    "    if comment is not None\n",
    "]\n",
    "\n",
    "with open('data/lakers_vector_comments.pkl', 'wb') as f:\n",
    "    pickle.dump(lakers_vector_comments, f)\n",
    "\n",
    "initial_heat_comments = [\n",
    "    comment_to_numpy_array(comment.body) for comment in heat_comments\n",
    "]\n",
    "\n",
    "heat_vector_comments = [\n",
    "    (comment, 0) for comment in initial_heat_comments\n",
    "    if comment is not None\n",
    "]\n",
    "    \n",
    "with open('data/heat_vector_comments.pkl', 'wb') as f:\n",
    "    pickle.dump(heat_vector_comments, f)"
   ]
  },
  {
   "cell_type": "markdown",
   "metadata": {},
   "source": [
    "The actual sizes of these files on disk were 96 MB for the Heat comments and 347 MB for the Lakers comments.\n",
    "\n",
    "## Modeling\n",
    "\n",
    "Now we go through the modeling process, by which we mean the process of using PyTorch to build \n",
    "and train a model to predict whether a post is by a Lakers fan or by a Heat fan.\n",
    "\n",
    "### Dataset\n",
    "\n",
    "This section is about creating a PyTorch `Dataset` that loads the data\n",
    "that we scraped from Reddit and cleaned in the data collection section. Data cleaning\n",
    "is data modeling, while what we do here is not.\n",
    "\n",
    "We will try to use the `WeightedRandomSampler` (with replacement) so that we can return\n",
    "comments from Lakers and Heat fans with equal probability even though the two\n",
    "classes are imbalanced."
   ]
  },
  {
   "cell_type": "code",
   "execution_count": 6,
   "metadata": {},
   "outputs": [],
   "source": [
    "# again, we load in what we saved if we need to\n",
    "\n",
    "import pickle\n",
    "\n",
    "with open('data/lakers_vector_comments.pkl', 'rb') as f:\n",
    "    lakers_vector_comments = pickle.load(f)\n",
    "    \n",
    "with open('data/heat_vector_comments.pkl', 'rb') as f:\n",
    "    heat_vector_comments = pickle.load(f)"
   ]
  },
  {
   "cell_type": "code",
   "execution_count": 200,
   "metadata": {},
   "outputs": [],
   "source": [
    "import torch\n",
    "from torch.utils.data import Dataset\n",
    "\n",
    "class TrainDataset(Dataset):\n",
    "    \n",
    "    def __init__(self, lakers_vector_comments, heat_vector_comments):\n",
    "        \"\"\" we will combine the two datasets into one dataset\"\"\"\n",
    "        \n",
    "        self._len_lakers = len(lakers_vector_comments)\n",
    "        self._len_heat = len(heat_vector_comments)\n",
    "        \n",
    "        self._samples = [\n",
    "            torch.tensor(c[0]) for c in lakers_vector_comments + heat_vector_comments\n",
    "        ]\n",
    "        self._labels = [\n",
    "            torch.tensor(c[1]) for c in lakers_vector_comments + heat_vector_comments\n",
    "        ]\n",
    "        \n",
    "    @property\n",
    "    def len_lakers(self):\n",
    "        return self._len_lakers\n",
    "    \n",
    "    @property\n",
    "    def len_heat(self):\n",
    "        return self._len_heat\n",
    "    \n",
    "    @property\n",
    "    def samples(self):\n",
    "        return self._samples\n",
    "    \n",
    "    @property\n",
    "    def labels(self):\n",
    "        return self._labels\n",
    "        \n",
    "    def __len__(self):\n",
    "        return self.len_lakers + self.len_heat\n",
    "    \n",
    "    def __getitem__(self, idx):\n",
    "        \n",
    "        if torch.is_tensor(idx):\n",
    "            idx = idx.tolist()\n",
    "        \n",
    "        return self.samples[idx], self.labels[idx]\n",
    "    \n",
    "training_data = TrainDataset(lakers_vector_comments, heat_vector_comments)"
   ]
  },
  {
   "cell_type": "code",
   "execution_count": 206,
   "metadata": {},
   "outputs": [
    {
     "data": {
      "text/plain": [
       "tensor([[-0.2179,  0.4413, -0.4320,  ..., -0.1647,  0.3225,  0.3058],\n",
       "        [-0.7036,  0.1382,  0.6530,  ..., -0.1667, -0.0218,  0.3645],\n",
       "        [ 0.6381, -0.2333,  0.2290,  ..., -0.0055, -0.4417, -0.2157],\n",
       "        ...,\n",
       "        [ 0.3504,  0.1946, -0.4185,  ...,  0.5152,  0.0354, -0.1521],\n",
       "        [ 0.5428, -0.2805,  0.7388,  ..., -0.1633, -0.4704,  0.1079],\n",
       "        [-0.5329, -0.2012, -0.0371,  ..., -0.0696,  0.0811,  0.2704]])"
      ]
     },
     "execution_count": 206,
     "metadata": {},
     "output_type": "execute_result"
    }
   ],
   "source": [
    "training_data[0][0]"
   ]
  },
  {
   "cell_type": "code",
   "execution_count": null,
   "metadata": {},
   "outputs": [],
   "source": []
  },
  {
   "cell_type": "code",
   "execution_count": null,
   "metadata": {},
   "outputs": [],
   "source": []
  },
  {
   "cell_type": "markdown",
   "metadata": {},
   "source": [
    "Now we set up the sampler so that it chooses Lakers and Heat comments with equal probability.\n",
    "We do this because we expect (foolishly, probably) that comments by neutral fans on game\n",
    "threads are equally likely to be for the Lakers as for the Heat. This is almost certainly\n",
    "false since LeBron plays for the Lakers and is undoubtedly the most popular player in\n",
    "the league, but we'll use this assumption for now."
   ]
  },
  {
   "cell_type": "code",
   "execution_count": 207,
   "metadata": {},
   "outputs": [],
   "source": [
    "from torch.utils.data.sampler import WeightedRandomSampler\n",
    "\n",
    "lakers_weight = training_data.len_heat / len(training_data)\n",
    "heat_weight = training_data.len_lakers / len(training_data)\n",
    "\n",
    "weights = np.concatenate([\n",
    "    lakers_weight * np.ones(training_data.len_lakers),\n",
    "    heat_weight * np.ones(training_data.len_heat)\n",
    "])\n",
    "\n",
    "sampler = WeightedRandomSampler(weights, len(weights), replacement=True)"
   ]
  },
  {
   "cell_type": "markdown",
   "metadata": {},
   "source": [
    "Finally, we create a `DataLoader` to give use random samples. We will not be doing batches, since I'm \n",
    "unsure how to do that with samples of different lengths without padding the shorter comments, which I\n",
    "have decided not to do out of inertia."
   ]
  },
  {
   "cell_type": "code",
   "execution_count": 208,
   "metadata": {},
   "outputs": [],
   "source": [
    "from torch.utils.data import DataLoader\n",
    "\n",
    "train_loader = DataLoader(training_data,\n",
    "                          batch_size=1,\n",
    "                          shuffle=False, # required by sampler type\n",
    "                          sampler=sampler)"
   ]
  },
  {
   "cell_type": "markdown",
   "metadata": {},
   "source": [
    "### Create the Model\n",
    "\n",
    "And now we create our LSTM based model to predict whether a comment comes from a Lakers fan or a Heat fan.\n",
    "\n",
    "It seems to be an open question of how large the hidden state should be in an LSTM. It seems that some number\n",
    "between the input and output layers should work and ultimately this is something that would need to be\n",
    "optimized for on a validation set. I'm not going to bother with that and just set it to be 128, i.e., a power of\n",
    "2 that is just under half of the input size and hope that works out well enough. Some discussions can be found on [stackexchange](https://stats.stackexchange.com/questions/181/how-to-choose-the-number-of-hidden-layers-and-nodes-in-a-feedforward-neural-netw/136542#136542)\n",
    "and [quora](https://www.quora.com/In-LSTM-how-do-you-figure-out-what-size-the-weights-are-supposed-to-be) so take\n",
    "that how you want, dear reader. The PyTorch LSTM docs are [here](https://pytorch.org/docs/stable/generated/torch.nn.LSTM.html)."
   ]
  },
  {
   "cell_type": "code",
   "execution_count": 223,
   "metadata": {},
   "outputs": [],
   "source": [
    "import torch.nn as nn\n",
    "\n",
    "class BasketballNet(nn.Module):\n",
    "\n",
    "    def __init__(self, random_state=47):\n",
    "        super(BasketballNet, self).__init__()\n",
    "        torch.manual_seed(random_state)\n",
    "        \n",
    "        self.lstm = nn.LSTM(input_size=300,\n",
    "                            hidden_size=128,\n",
    "                            num_layers=1,\n",
    "                            bias=True)\n",
    "        self.to_out = nn.Linear(128, 1)\n",
    "        \n",
    "        \n",
    "    def forward(self, x):\n",
    "        \"\"\" Non-batched for a sequence with n words the\n",
    "        input needs to have shape (n, 1, 300).\n",
    "        We put in sequences of size (n, 300) which\n",
    "        we can change with a view.\n",
    "        \n",
    "        We will pass in the entire sequence at once,\n",
    "        but one can also iterate through one word at a\n",
    "        time. This would allow for a truncated backprop\n",
    "        through time since one could zero out the state\n",
    "        partway through. We won't be doing this. \"\"\"\n",
    "        \n",
    "        lstm_out, _ = self.lstm(x.view(x.shape[0], 1, -1))\n",
    "        raw_out = self.to_out(lstm_out[x.shape[0]-1])\n",
    "        out = torch.sigmoid(raw_out)\n",
    "        \n",
    "        return out"
   ]
  },
  {
   "cell_type": "markdown",
   "metadata": {},
   "source": [
    "Let's show that this does in fact work by just feeding it some random input of the correct size\n",
    "and getting an output from it. That's it, that's the test. It's how I made sure it was working\n",
    "and fixed some typos."
   ]
  },
  {
   "cell_type": "code",
   "execution_count": 224,
   "metadata": {},
   "outputs": [
    {
     "name": "stdout",
     "output_type": "stream",
     "text": [
      "random output from random input: tensor([[0.5075]], grad_fn=<SigmoidBackward>)\n"
     ]
    }
   ],
   "source": [
    "basketball_net = BasketballNet()\n",
    "random_input = torch.randn(5, 300)\n",
    "test_out = basketball_net(random_input)\n",
    "print('random output from random input:', test_out)"
   ]
  },
  {
   "cell_type": "markdown",
   "metadata": {},
   "source": [
    "### Training\n",
    "\n",
    "Now let's train. We'll use ADAM to optimize and mean square error loss. We're not\n",
    "going too crazy here, ya know. I'll probably write this elsewhere in this post, but \n",
    "I don't think we're going to get great results. This is because fundamentally I don't\n",
    "believe that there's much signal in the training examples and that this is a hard\n",
    "problem."
   ]
  },
  {
   "cell_type": "code",
   "execution_count": 274,
   "metadata": {},
   "outputs": [],
   "source": [
    "from torch.optim import Adam\n",
    "\n",
    "basketball_net = BasketballNet()\n",
    "optimizer = Adam(basketball_net.parameters())\n",
    "criterion = nn.MSELoss()"
   ]
  },
  {
   "cell_type": "code",
   "execution_count": 275,
   "metadata": {},
   "outputs": [
    {
     "name": "stdout",
     "output_type": "stream",
     "text": [
      "initial training error rate: 0.655\n"
     ]
    }
   ],
   "source": [
    "num_wrong = 0.0\n",
    "for sample, label in training_data:\n",
    "    output = basketball_net(sample)\n",
    "    \n",
    "    if output[0][0] >= 0.5:\n",
    "        prediction = 1.0\n",
    "    else:\n",
    "        prediction = 0.0\n",
    "        \n",
    "    if np.abs(prediction - label.item()) > 0:\n",
    "        num_wrong += 1\n",
    "        \n",
    "print('initial training error rate: {:.3f}'.format(num_wrong / len(training_data)))"
   ]
  },
  {
   "cell_type": "code",
   "execution_count": 276,
   "metadata": {},
   "outputs": [
    {
     "name": "stdout",
     "output_type": "stream",
     "text": [
      "epoch: 1 - loss: 0.251 - classification error: 0.217 - rate lakers: 0.497\n",
      "epoch: 2 - loss: 0.736 - classification error: 0.143 - rate lakers: 0.503\n",
      "epoch: 3 - loss: 0.000 - classification error: 0.111 - rate lakers: 0.498\n",
      "epoch: 4 - loss: 0.253 - classification error: 0.088 - rate lakers: 0.499\n",
      "epoch: 5 - loss: 0.001 - classification error: 0.076 - rate lakers: 0.498\n",
      "epoch: 6 - loss: 0.000 - classification error: 0.069 - rate lakers: 0.497\n",
      "epoch: 7 - loss: 0.000 - classification error: 0.064 - rate lakers: 0.500\n",
      "epoch: 8 - loss: 0.000 - classification error: 0.059 - rate lakers: 0.502\n",
      "epoch: 9 - loss: 0.009 - classification error: 0.056 - rate lakers: 0.500\n",
      "epoch: 10 - loss: 0.000 - classification error: 0.055 - rate lakers: 0.498\n",
      "Finished Training\n"
     ]
    }
   ],
   "source": [
    "for epoch in range(10): \n",
    "\n",
    "    running_loss = 0.0\n",
    "    num_wrong = 0.0\n",
    "    num_lakers = 0.0\n",
    "    num_heat = 0.0\n",
    "    for sample, label in train_loader:\n",
    "\n",
    "        # zero the parameter gradients\n",
    "        optimizer.zero_grad()\n",
    "\n",
    "        # forward + backward + optimize\n",
    "        output = basketball_net(sample[0])\n",
    "        loss = criterion(output.float(), label.float())\n",
    "        loss.backward()\n",
    "        optimizer.step()\n",
    "\n",
    "        if output[0][0] >= 0.5:\n",
    "            prediction = 1\n",
    "        else:\n",
    "            prediction = 0\n",
    "            \n",
    "        if int(label.item()) == 1:\n",
    "            num_lakers += 1\n",
    "        else:\n",
    "            num_heat += 1\n",
    "        \n",
    "        num_wrong += np.abs(prediction - label.item())\n",
    "        running_loss += loss.item()\n",
    "        \n",
    "    class_error = num_wrong / len(train_loader)\n",
    "    rate_lakers = num_lakers / (num_lakers + num_heat)\n",
    "    print('epoch: {} - loss: {:.3f} - classification error: {:.3f} - rate lakers: {:.3f}'.format(epoch+1,\n",
    "                                                                                                 loss,\n",
    "                                                                                                 class_error,\n",
    "                                                                                                 rate_lakers))\n",
    "    \n",
    "    if class_error == 0.0:\n",
    "        break\n",
    "\n",
    "print('Finished Training')"
   ]
  },
  {
   "cell_type": "markdown",
   "metadata": {},
   "source": [
    "This certainly looks like overtraining to me. The random samples do give weird things like\n",
    "the loss fluctuating so much.  Let's seee what the overall error rate is."
   ]
  },
  {
   "cell_type": "code",
   "execution_count": 277,
   "metadata": {},
   "outputs": [
    {
     "name": "stdout",
     "output_type": "stream",
     "text": [
      "final training error rate: 0.057\n"
     ]
    }
   ],
   "source": [
    "num_wrong = 0.0\n",
    "for sample, label in training_data:\n",
    "    output = basketball_net(sample)\n",
    "    \n",
    "    if output[0][0] >= 0.5:\n",
    "        prediction = 1.0\n",
    "    else:\n",
    "        prediction = 0.0\n",
    "        \n",
    "    if np.abs(prediction - label.item()) > 0:\n",
    "        num_wrong += 1\n",
    "        \n",
    "print('final training error rate: {:.3f}'.format(num_wrong / len(training_data)))"
   ]
  },
  {
   "cell_type": "markdown",
   "metadata": {},
   "source": [
    "At least the error rate didn't shoot up, but the model has probably seen almost all the Lakers samples by this point.\n",
    "I've thought about re-training and stopping after a couple epochs, but I think I'll just roll with what we've got\n",
    "and see what the reuslts look like."
   ]
  },
  {
   "cell_type": "markdown",
   "metadata": {},
   "source": [
    "## Analysis of neutral fans\n",
    "\n",
    "For the \"test set\" we're going to take the comments from neutral fans during the finals between the Lakers\n",
    "and Heat and do some analysis. Since these comments don't have labels, this isn't really a test set, it's\n",
    "just we're going to see what sort of (flawed!) analysis we can do with this overfit model.\n",
    " \n",
    "Before doing that, let's play around with some comments that we made."
   ]
  },
  {
   "cell_type": "code",
   "execution_count": 597,
   "metadata": {},
   "outputs": [
    {
     "name": "stdout",
     "output_type": "stream",
     "text": [
      "'Lebron is the goat basketball player': Lakers (100.0%)\n",
      "\n",
      "'Lebron is terrible. He flops. I hate him. Jordan is better': Lakers (86.1%)\n",
      "\n",
      "'Jimmy Butler tries harder than everyone he deserves this': Heat (99.9%)\n",
      "\n",
      "'Duncan Robinson is a great shooter Lakers can't stop us': Heat (72.1%)\n",
      "\n",
      "'Jimmy and LeBron are the two best players out there': Heat (82.2%)\n",
      "\n",
      "'LeBron and Jimmy are the two best players out there': Heat (71.1%)\n",
      "\n",
      "'Wow, what a three pointer! On fire tonight': Lakers (98.5%)\n",
      "\n",
      "'Mark Jackson is the worst. Need to change commenters next year please': Heat (91.6%)\n",
      "\n",
      "'good good good': Lakers (83.2%)\n",
      "\n",
      "'bad bad bad': Heat (92.6%)\n",
      "\n",
      "'lakers heat lakers heat': Lakers (75.6%)\n",
      "\n",
      "'heat lakers heat lakers': Heat (94.3%)\n",
      "\n",
      "'neutral netural neutral': Heat (100.0%)\n",
      "\n",
      "'neutral comment without bias': Heat (57.9%)\n",
      "\n"
     ]
    }
   ],
   "source": [
    "comments = [\n",
    "    \"Lebron is the goat basketball player\",\n",
    "    \"Lebron is terrible. He flops. I hate him. Jordan is better\",\n",
    "    \"Jimmy Butler tries harder than everyone he deserves this\",\n",
    "    \"Duncan Robinson is a great shooter Lakers can't stop us\",\n",
    "    \"Jimmy and LeBron are the two best players out there\",\n",
    "    \"LeBron and Jimmy are the two best players out there\",\n",
    "    \"Wow, what a three pointer! On fire tonight\",\n",
    "    \"Mark Jackson is the worst. Need to change commenters next year please\",\n",
    "    \"good good good\",\n",
    "    \"bad bad bad\",\n",
    "    \"lakers heat lakers heat\",\n",
    "    \"heat lakers heat lakers\",\n",
    "    \"neutral netural neutral\",\n",
    "    \"neutral comment without bias\"\n",
    "]\n",
    "\n",
    "for comment in comments:\n",
    "    text_array = comment_to_numpy_array(comment)\n",
    "    predict_proba = basketball_net(torch.tensor(text_array)).item() * 100\n",
    "\n",
    "    if predict_proba >= 50:\n",
    "        prediction = \"Lakers\"\n",
    "    else:\n",
    "        prediction = \"Heat\"\n",
    "        predict_proba = 100 - predict_proba\n",
    "    \n",
    "    print(\"'\" + comment +\"': {} ({:.1f}%)\\n\".format(prediction, predict_proba))"
   ]
  },
  {
   "cell_type": "markdown",
   "metadata": {},
   "source": [
    "Order obviously matters (see the last two comments). It mostly seems to be identifying \n",
    "players on each team, which is pretty cool! But also flawed, as you can see in the second\n",
    "comment which is critical of LeBron but still identifies the comment as being from a \n",
    "pro-Lakers fan. The percentages are also really high, which seems to indicate overfitting.\n",
    "It's funny to me that \"good good good\" is a Lakers comment while \"bad bad bad\" is predicted\n",
    "as a Heat comment. Maybe Heat fans were more negative overall this year? There certainly wasn't\n",
    "as much optimism surrounding them going into the season and Lakers fans are rather notoriously\n",
    "smug."
   ]
  },
  {
   "cell_type": "markdown",
   "metadata": {},
   "source": [
    "### Get comments and predict\n",
    "\n",
    "That was fun, but let's now get the set of comments we want to analyze on."
   ]
  },
  {
   "cell_type": "code",
   "execution_count": 280,
   "metadata": {},
   "outputs": [
    {
     "name": "stdin",
     "output_type": "stream",
     "text": [
      " ····················\n"
     ]
    }
   ],
   "source": [
    "vault = Vault(getpass())\n",
    "with open('redditcreds.yml', 'r') as f:\n",
    "    reddit_creds = vault.load(f.read())\n",
    "\n",
    "reddit = praw.Reddit(username=reddit_creds['username'],\n",
    "                     user_agent=reddit_creds['user_agent'],\n",
    "                     client_id=reddit_creds['client_id'],\n",
    "                     client_secret=reddit_creds['client_secret'])"
   ]
  },
  {
   "cell_type": "code",
   "execution_count": 286,
   "metadata": {},
   "outputs": [
    {
     "name": "stdout",
     "output_type": "stream",
     "text": [
      "GAME THREAD: Los Angeles Lakers (52-19) @ Miami Heat (44-29) - (October 11, 2020)\n",
      "GAME THREAD: Miami Heat (44-29) @ Los Angeles Lakers (52-19) - (October 09, 2020)\n",
      "GAME THREAD: Miami Heat (44-29) @ Los Angeles Lakers (52-19) - (September 30, 2020)\n",
      "GAME THREAD: Los Angeles Lakers (52-19) @ Miami Heat (44-29) - (October 06, 2020)\n",
      "GAME THREAD: Los Angeles Lakers (52-19) @ Miami Heat (44-29) - (October 04, 2020)\n",
      "GAME THREAD: Miami Heat (44-29) @ Los Angeles Lakers (52-19) - (October 02, 2020)\n"
     ]
    }
   ],
   "source": [
    "subreddit = reddit.subreddit('nba')\n",
    "\n",
    "submissions = subreddit.search(query='title:\"GAME THREAD\"',\n",
    "                               time_filter=\"month\")\n",
    "game_threads = [\n",
    "    s for s in submissions \n",
    "    if\n",
    "        s.title[:11] == 'GAME THREAD' \n",
    "        and (\"Lakers\" in s.title and \"Heat\" in s.title)\n",
    "]\n",
    "\n",
    "for s in game_threads:\n",
    "    print(s.title)"
   ]
  },
  {
   "cell_type": "markdown",
   "metadata": {},
   "source": [
    "It was easy enough to get the comments with PRAW, so no need to rely on pushshift for this task.\n",
    "Now let's try to aggregate comments by user. First we have to realize more \n",
    "of the comments, though we won't do all of them. Recall that this takes awhile as we\n",
    "make repeated calls to the reddit API."
   ]
  },
  {
   "cell_type": "code",
   "execution_count": 287,
   "metadata": {},
   "outputs": [],
   "source": [
    "for game_thread in game_threads:\n",
    "    game_thread.comments.replace_more(limit=32, threshold=0)"
   ]
  },
  {
   "cell_type": "markdown",
   "metadata": {},
   "source": [
    "Let's get the comments that we care about, i.e., for users that are "
   ]
  },
  {
   "cell_type": "code",
   "execution_count": 444,
   "metadata": {},
   "outputs": [
    {
     "name": "stdout",
     "output_type": "stream",
     "text": [
      "GAME THREAD: Los Angeles Lakers (52-19) @ Miami Heat (44-29) - (October 11, 2020)\n",
      "GAME THREAD: Miami Heat (44-29) @ Los Angeles Lakers (52-19) - (October 09, 2020)\n",
      "GAME THREAD: Miami Heat (44-29) @ Los Angeles Lakers (52-19) - (September 30, 2020)\n",
      "GAME THREAD: Los Angeles Lakers (52-19) @ Miami Heat (44-29) - (October 06, 2020)\n",
      "GAME THREAD: Los Angeles Lakers (52-19) @ Miami Heat (44-29) - (October 04, 2020)\n",
      "GAME THREAD: Miami Heat (44-29) @ Los Angeles Lakers (52-19) - (October 02, 2020)\n"
     ]
    }
   ],
   "source": [
    "from time import sleep\n",
    "\n",
    "def valid_user(flair):\n",
    "    \n",
    "    # want to ensure that user is flaired\n",
    "    if flair is None:\n",
    "        return False\n",
    "    \n",
    "    flair = flair.lower()\n",
    "    \n",
    "    if 'lal' in flair or 'mia' in flair \\\n",
    "        or 'lakers' in flair or 'heat' in flair:\n",
    "        return False\n",
    "    else:\n",
    "        return True\n",
    "    \n",
    "prediction_data = []\n",
    "\n",
    "for game in game_threads:\n",
    "    \n",
    "    print(game.title)\n",
    "    game_id = game.id\n",
    "    \n",
    "    for comment in game.comments:\n",
    "        \n",
    "        try:\n",
    "            author_id = comment.author.id\n",
    "            flair = comment.author_flair_text\n",
    "            comment_id = comment.id\n",
    "        except AttributeError:\n",
    "            continue\n",
    "            \n",
    "        if valid_user(flair):\n",
    "            text_array = comment_to_numpy_array(comment.body)\n",
    "\n",
    "            if text_array is not None and len(text_array) >= 3:\n",
    "                predict_proba = basketball_net(torch.tensor(text_array)).item()\n",
    "                \n",
    "                if predict_proba >= 0.5:\n",
    "                    prediction = 1\n",
    "                else:\n",
    "                    prediction = 0\n",
    "                \n",
    "                prediction_data += [(\n",
    "                    game_id,\n",
    "                    author_id,\n",
    "                    comment_id,\n",
    "                    predict_proba,\n",
    "                    prediction\n",
    "                )]"
   ]
  },
  {
   "cell_type": "code",
   "execution_count": 445,
   "metadata": {},
   "outputs": [],
   "source": [
    "import pickle\n",
    "\n",
    "with open('data/lakers_heat_prediction_data.pkl', 'wb') as f:\n",
    "    pickle.dump(prediction_data, f)"
   ]
  },
  {
   "cell_type": "markdown",
   "metadata": {},
   "source": [
    "For some easier analysis, we'll put this into a pandas `DataFrame`."
   ]
  },
  {
   "cell_type": "code",
   "execution_count": 471,
   "metadata": {},
   "outputs": [],
   "source": [
    "import pandas as pd\n",
    "\n",
    "cols = [\n",
    "    'game_id',\n",
    "    'author_id',\n",
    "    'comment_id',\n",
    "    'predict_proba',\n",
    "    'prediction'\n",
    "]\n",
    "\n",
    "df = pd.DataFrame(prediction_data, columns=cols)\n",
    "\n",
    "# rename the prediction labels\n",
    "df['prediction_name'] = 'Lakers'\n",
    "df.loc[df['prediction']==0, 'prediction_name'] = 'Heat'\n",
    "\n",
    "# label the games by number (did some redacted printing of game_id's and titles)\n",
    "df['game'] = 0\n",
    "df.loc[df['game_id'] == 'j9eyw8', 'game'] = 6\n",
    "df.loc[df['game_id'] == 'j8ac6b', 'game'] = 5\n",
    "df.loc[df['game_id'] == 'j2xqua', 'game'] = 1\n",
    "df.loc[df['game_id'] == 'j6gk6h', 'game'] = 4\n",
    "df.loc[df['game_id'] == 'j57z5q', 'game'] = 3\n",
    "df.loc[df['game_id'] == 'j45t87', 'game'] = 2\n",
    "\n",
    "# record the winner\n",
    "df['winner'] = 'Lakers'\n",
    "df.loc[df['game']==3, 'winner'] = 'Heat'\n",
    "df.loc[df['game']==5, 'winner'] = 'Heat'"
   ]
  },
  {
   "cell_type": "markdown",
   "metadata": {},
   "source": [
    "Let's see what our overtrained model thinks about the distribution of comments, whether it leans\n",
    "Lakers or Heat."
   ]
  },
  {
   "cell_type": "code",
   "execution_count": 485,
   "metadata": {},
   "outputs": [
    {
     "name": "stdout",
     "output_type": "stream",
     "text": [
      "Percent of comments by affiliation:\n",
      "\n",
      "\tLakers: 65.8 %\n",
      "\tHeat: 34.2 %\n"
     ]
    }
   ],
   "source": [
    "comment_counts = df['prediction_name'].value_counts(True) * 100\n",
    "print('Percent of comments by affiliation:\\n')\n",
    "print('\\tLakers: {:.1f} %'.format(comment_counts['Lakers']))\n",
    "print('\\tHeat: {:.1f} %'.format(comment_counts['Heat']))"
   ]
  },
  {
   "cell_type": "markdown",
   "metadata": {},
   "source": [
    "At least this result is in line with what we would have predicted. Let's plot a histogram of the\n",
    "predicted probabilities and see just how overtrained it is! (I'll admit that I wrote this line\n",
    "after I plotted the histogram.)"
   ]
  },
  {
   "cell_type": "code",
   "execution_count": 469,
   "metadata": {},
   "outputs": [
    {
     "data": {
      "image/png": "[encoded data removed]",
      "text/plain": [
       "<Figure size 576x432 with 1 Axes>"
      ]
     },
     "metadata": {
      "needs_background": "light"
     },
     "output_type": "display_data"
    }
   ],
   "source": [
    "from matplotlib import pyplot as plt\n",
    "\n",
    "fig, ax = plt.subplots(figsize=(8, 6))\n",
    "\n",
    "df['predict_proba'].hist(ax=ax)\n",
    "ax.set_title('Prediction Probabilities (1 = Lakers, 0 = Heat)')\n",
    "ax.set_ylabel('# comments')\n",
    "ax.set_xlabel('predict_proba')\n",
    "\n",
    "plt.show()"
   ]
  },
  {
   "cell_type": "markdown",
   "metadata": {},
   "source": [
    "So yeah, the model is way too confident in it's predictions. We might as well just look at the\n",
    "prediction labels and not the prediction probabilities. \n",
    "\n",
    "Let's see if we can figure out  what the opinions are by game and such. Do the comments change based on the winner?"
   ]
  },
  {
   "cell_type": "code",
   "execution_count": 486,
   "metadata": {},
   "outputs": [
    {
     "name": "stdout",
     "output_type": "stream",
     "text": [
      "Comment classification in games won by the Heat:\n",
      "\n",
      "\tLakers: 67.7 %\n",
      "\tHeat: 32.3 %\n",
      "\n",
      "Comment classification in games won by the Lakers:\n",
      "\n",
      "\tLakers: 64.9 %\n",
      "\tHeat: 35.1 %\n"
     ]
    }
   ],
   "source": [
    "comment_counts = df[df['winner']=='Heat']['prediction_name'].value_counts(True) * 100\n",
    "print('Comment classification in games won by the Heat:\\n')\n",
    "print('\\tLakers: {:.1f} %'.format(comment_counts['Lakers']))\n",
    "print('\\tHeat: {:.1f} %'.format(comment_counts['Heat']))\n",
    "\n",
    "comment_counts = df[df['winner']=='Lakers']['prediction_name'].value_counts(True) * 100\n",
    "print('\\nComment classification in games won by the Lakers:\\n')\n",
    "print('\\tLakers: {:.1f} %'.format(comment_counts['Lakers']))\n",
    "print('\\tHeat: {:.1f} %'.format(comment_counts['Heat']))"
   ]
  },
  {
   "cell_type": "markdown",
   "metadata": {},
   "source": [
    "That seems backwards from what I would have predicted, but maybe the losing team does more complaining.\n",
    "Or maybe it's just random anyway.\n",
    "\n",
    "Let's dig into the most frequent commenters and see if we can deduce who they support."
   ]
  },
  {
   "cell_type": "code",
   "execution_count": 527,
   "metadata": {},
   "outputs": [
    {
     "data": {
      "text/plain": [
       "19v1ze      93\n",
       "xmlcpt2     54\n",
       "16xpvs      50\n",
       "2nu9liyg    48\n",
       "83t5t       44\n",
       "j7i90       41\n",
       "ylfg7       38\n",
       "7xx89       38\n",
       "tlosp       37\n",
       "j9wna       37\n",
       "Name: author_id, dtype: int64"
      ]
     },
     "execution_count": 527,
     "metadata": {},
     "output_type": "execute_result"
    }
   ],
   "source": [
    "authors = df['author_id'].value_counts()\n",
    "authors.head(10)"
   ]
  },
  {
   "cell_type": "code",
   "execution_count": 562,
   "metadata": {},
   "outputs": [],
   "source": [
    "prolific_commenters = authors[authors > 20]\n",
    "\n",
    "max_heat_pct = 0\n",
    "max_heat_author = ''\n",
    "max_lakers_pct = 0\n",
    "max_lakers_author = ''\n",
    "\n",
    "for author_id in prolific_commenters.index:\n",
    "    \n",
    "    counts = df[df['author_id']==author_id]['prediction_name'].value_counts()\n",
    "    \n",
    "    pct_lakers = 100.0 * counts['Lakers'] / authors[author_id]\n",
    "    pct_heat = 100 - pct_lakers\n",
    "    \n",
    "    if pct_lakers > max_lakers_pct:\n",
    "        max_lakers_pct = pct_lakers\n",
    "        max_lakers_author = author_id\n",
    "    \n",
    "    if pct_heat > max_heat_pct:\n",
    "        max_heat_pct = pct_heat\n",
    "        max_heat_author = author_id"
   ]
  },
  {
   "cell_type": "code",
   "execution_count": null,
   "metadata": {},
   "outputs": [],
   "source": []
  },
  {
   "cell_type": "code",
   "execution_count": null,
   "metadata": {},
   "outputs": [],
   "source": []
  },
  {
   "cell_type": "code",
   "execution_count": null,
   "metadata": {},
   "outputs": [],
   "source": []
  },
  {
   "cell_type": "code",
   "execution_count": null,
   "metadata": {},
   "outputs": [],
   "source": []
  },
  {
   "cell_type": "code",
   "execution_count": null,
   "metadata": {},
   "outputs": [],
   "source": []
  },
  {
   "cell_type": "code",
   "execution_count": null,
   "metadata": {},
   "outputs": [],
   "source": []
  },
  {
   "cell_type": "code",
   "execution_count": null,
   "metadata": {},
   "outputs": [],
   "source": []
  },
  {
   "cell_type": "code",
   "execution_count": null,
   "metadata": {},
   "outputs": [],
   "source": []
  },
  {
   "cell_type": "code",
   "execution_count": null,
   "metadata": {},
   "outputs": [],
   "source": []
  },
  {
   "cell_type": "code",
   "execution_count": null,
   "metadata": {},
   "outputs": [],
   "source": []
  },
  {
   "cell_type": "code",
   "execution_count": null,
   "metadata": {},
   "outputs": [],
   "source": []
  },
  {
   "cell_type": "code",
   "execution_count": null,
   "metadata": {},
   "outputs": [],
   "source": []
  },
  {
   "cell_type": "code",
   "execution_count": null,
   "metadata": {},
   "outputs": [],
   "source": []
  }
 ],
 "metadata": {
  "kernelspec": {
   "display_name": "Python [conda env:gitpage] *",
   "language": "python",
   "name": "conda-env-gitpage-py"
  },
  "language_info": {
   "codemirror_mode": {
    "name": "ipython",
    "version": 3
   },
   "file_extension": ".py",
   "mimetype": "text/x-python",
   "name": "python",
   "nbconvert_exporter": "python",
   "pygments_lexer": "ipython3",
   "version": "3.7.6"
  }
 },
 "nbformat": 4,
 "nbformat_minor": 4
}
