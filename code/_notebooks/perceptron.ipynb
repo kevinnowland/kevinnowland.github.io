{
 "cells": [
  {
   "cell_type": "markdown",
   "metadata": {},
   "source": [
    "---\n",
    "layout:code-post\n",
    "title: Perceptron\n",
    "tags: neural nets\n",
    "---\n",
    "\n",
    "This notebook is the first notebook in what will become a regular series\n",
    "focusing on neural nets. Being the first post, we should start with the\n",
    "building block of a neural net, the neuron. I am not sure what level I \n",
    "will write these posts at, as these mostly exist for me to organize my\n",
    "thoughts. Being on a public facing website, they shouldn't be entirely in\n",
    "language that only I recognize, but I probably will not define every\n",
    "little thing.\n",
    "\n",
    "Outline:\n",
    "1. Modelling a neuron\n",
    "2. Training a neuron\n",
    "  1. Perceptron algorithm\n",
    "  2. Stochastic Gradient Descent\n",
    "  \n",
    "## 1. Modelling a neuron\n",
    "\n",
    "The simple model for a neuron $v$ is that it takes in $k$ values\n",
    "$x_i$ such that $x_i$ is weighted by $w_k$. The output of the\n",
    "neuron is $\\sigma(w\\cdot x)$ for some _activation function_ $\\sigma$.\n",
    "Typical choices for $\\sigma$ include the sign function, the sigmoid\n",
    "function, or the rectifified linear unit (ReLU) function. For a \n",
    "single neuron, or for the neurons in the first layer in a neural network,\n",
    "we typically extend the input vector $x$ by adding the constant 1 into\n",
    "the $k+1$st position.\n",
    "\n",
    "Let's create a simple class to represent the neuron."
   ]
  },
  {
   "cell_type": "code",
   "execution_count": 13,
   "metadata": {},
   "outputs": [],
   "source": [
    "import numpy as np\n",
    "\n",
    "class Neuron(object):\n",
    "    \n",
    "    def __init__(self, weights, activation_function):\n",
    "        \n",
    "        self.w = weights\n",
    "        self.sigma = activation_function\n",
    "        \n",
    "    def output(self, x):\n",
    "        return self.sigma(np.inner(self.w, x))        "
   ]
  },
  {
   "cell_type": "markdown",
   "metadata": {},
   "source": [
    "The sign function exists in `numpy`, but we will implement a couple of the other activation functions here."
   ]
  },
  {
   "cell_type": "code",
   "execution_count": 14,
   "metadata": {},
   "outputs": [],
   "source": [
    "def relu(x):\n",
    "    return 0 if x < 0 else x\n",
    "\n",
    "def sigmoid(x):\n",
    "    return 1.0/(1 + np.exp(-x))"
   ]
  },
  {
   "cell_type": "markdown",
   "metadata": {},
   "source": [
    "And let's show that the neuron works."
   ]
  },
  {
   "cell_type": "code",
   "execution_count": 15,
   "metadata": {},
   "outputs": [],
   "source": [
    "weights = np.array([1, 2, 3])\n",
    "\n",
    "n = Neuron(weights, sigmoid)\n",
    "\n",
    "x = np.array([-4, 2, -1])\n",
    "assert n.output(x) == 1 / (1 + np.exp(3)), \"the neuron did not work properly\""
   ]
  },
  {
   "cell_type": "markdown",
   "metadata": {},
   "source": [
    "## 2. Training\n",
    "\n",
    "Training a single neuron is a lot simpler than training an entire neural network,\n",
    "as a single neuron is an example of a linear predictor. For the purposes of this\n",
    "notebook, I'm going to create an artificial data set that is linearly \n",
    "separable."
   ]
  },
  {
   "cell_type": "code",
   "execution_count": 16,
   "metadata": {},
   "outputs": [],
   "source": [
    "import pandas as pd\n",
    "import matplotlib.pyplot as plt\n",
    "\n",
    "def make_separable_data():\n",
    "    \"\"\"function to make a separable data set of 2000 points in two dimensions.\"\"\"\n",
    "    \n",
    "    # create a separating run\n",
    "    y_intercept = np.random.uniform(-1, 1)\n",
    "    slope = np.random.uniform(-2, 2)\n",
    "    \n",
    "    data = np.zeros((2000, 4))\n",
    "    \n",
    "    # guarantee that cor is positive definite\n",
    "    # for use in sampling points from multivariate dist\n",
    "    if slope * slope < 1:\n",
    "        cor = [[1, slope], [slope, 1]]\n",
    "    else:\n",
    "        cor = [[1, 1 / slope], [1/slope, 1]]\n",
    "    \n",
    "    def sep_line(x):\n",
    "        return x * slope + y_intercept\n",
    "    \n",
    "    # choose random x near which to put centers of distributions \n",
    "    # to draw points from\n",
    "    x = np.random.uniform(-5, 5)\n",
    "    \n",
    "    # the -1 points\n",
    "    x_1 = x + 1\n",
    "    y_1 = sep_line(x_1) - 1\n",
    "    \n",
    "    n = 0\n",
    "    while n < 1000:\n",
    "        point = np.random.multivariate_normal([x_1, y_1], cor)\n",
    "        if point[1] < sep_line(point[0]) - 0.2:\n",
    "            data[n,] = np.append(point, [1, -1])\n",
    "            n += 1\n",
    "    \n",
    "    # the +1 points\n",
    "    x_2 = x - 1\n",
    "    y_2 = sep_line(x_2) + 1\n",
    "    \n",
    "    n = 0\n",
    "    while n < 1000:\n",
    "        point = np.random.multivariate_normal([x_2, y_2], cor)\n",
    "        if point[1] > sep_line(point[0]) + 0.2:\n",
    "            data[n+1000,] = np.append(point, [1, 1])\n",
    "            n += 1\n",
    "    \n",
    "    return pd.DataFrame(data, columns=['x_1', 'x_2', 'const', 'y'])"
   ]
  },
  {
   "cell_type": "code",
   "execution_count": 32,
   "metadata": {},
   "outputs": [],
   "source": [
    "data = make_separable_data()"
   ]
  },
  {
   "cell_type": "code",
   "execution_count": 33,
   "metadata": {},
   "outputs": [
    {
     "data": {
      "image/png": "[encoded data removed]",
      "text/plain": [
       "<Figure size 432x288 with 1 Axes>"
      ]
     },
     "metadata": {
      "needs_background": "light"
     },
     "output_type": "display_data"
    }
   ],
   "source": [
    "fig, ax = plt.subplots()\n",
    "\n",
    "ax.scatter(data[data['y']==1]['x_1'], data[data['y']==1]['x_2'])\n",
    "ax.scatter(data[data['y']==-1]['x_1'], data[data['y']==-1]['x_2'])\n",
    "\n",
    "plt.show()"
   ]
  },
  {
   "cell_type": "markdown",
   "metadata": {},
   "source": [
    "### 2.A Perceptron\n",
    "\n",
    "The perceptron algorithm is an algorithm for learning half-spaces. In other words, we\n",
    "are training a neuron that has the sign function as its activation function and the\n",
    "loss function is the 0-1 loss. The perceptron algorithm is an implementation of _Empirical Risk\n",
    "Minimization (ERM)_ that was proposed by Rosenblatt in 1958, and has the property that\n",
    "for a separable set of data is guaranteed to stop in polynomial time.\n",
    "\n",
    "The perceptron works by updating the weights $w^{(t)}$ to be $w^{(t)} + y_i x_i$ where $x_i$ is a \n",
    "point that is misclassified given the weights $w^{(t)}$."
   ]
  },
  {
   "cell_type": "code",
   "execution_count": 44,
   "metadata": {},
   "outputs": [],
   "source": [
    "def train_perceptron(data):\n",
    "    \"\"\"returns a neuron trained via the perceptron algorithm on the data\"\"\"\n",
    "    \n",
    "    neuron = Neuron(np.zeros(3), np.sign)\n",
    "    \n",
    "    exists_mislabeled_point = True\n",
    "    \n",
    "    while exists_mislabeled_point:\n",
    "        mislabeled_points = data[neuron.output(data[['x_1', 'x_2', 'const']]) != data['y']]\n",
    "        \n",
    "        if mislabeled_points.shape[0] > 0:\n",
    "            point = mislabeled_points.sample(1)\n",
    "            neuron.w = neuron.w + point[['x_1', 'x_2', 'const']].values.reshape(3,) * point['y'].values\n",
    "        else:\n",
    "            exists_mislabeled_point = False\n",
    "    \n",
    "    return neuron\n",
    "\n",
    "def get_line(weights):\n",
    "    \"\"\" returns m and b for line y = mx + b from the weights vector\"\"\"\n",
    "    m = -weights[0] / weights[1]\n",
    "    b = -weights[2] / weights[1]\n",
    "    \n",
    "    return m, b"
   ]
  },
  {
   "cell_type": "markdown",
   "metadata": {},
   "source": [
    "Now let's train a neuron. We then print out the the slope and \n",
    "intercept of the line defined by the weights of the neuron."
   ]
  },
  {
   "cell_type": "code",
   "execution_count": 46,
   "metadata": {},
   "outputs": [
    {
     "name": "stdout",
     "output_type": "stream",
     "text": [
      "(0.9193596596577078, -0.500980292142552)\n"
     ]
    }
   ],
   "source": [
    "n = train_perceptron(data)\n",
    "print(get_line(n.w))"
   ]
  },
  {
   "cell_type": "code",
   "execution_count": 41,
   "metadata": {},
   "outputs": [
    {
     "data": {
      "image/png": "[encoded data removed]",
      "text/plain": [
       "<Figure size 432x288 with 1 Axes>"
      ]
     },
     "metadata": {
      "needs_background": "light"
     },
     "output_type": "display_data"
    }
   ],
   "source": [
    "def plot_data_and_separator(data, n):\n",
    "    \"\"\" function to plot the data, shading the two regions that are\n",
    "    determined by the neurons weights.\"\"\"\n",
    "    fig, ax = plt.subplots()\n",
    "\n",
    "    ax.scatter(data[data['y']==1]['x_1'], data[data['y']==1]['x_2'])\n",
    "    ax.scatter(data[data['y']==-1]['x_1'], data[data['y']==-1]['x_2'])\n",
    "\n",
    "    xlim = ax.get_xlim()\n",
    "    ylim = ax.get_ylim()\n",
    "\n",
    "    # fix these as the limist\n",
    "    ax.set_ylim(ylim[0], ylim[1])\n",
    "    ax.set_xlim(xlim[0], xlim[1])\n",
    "\n",
    "    m, b = get_line(n.w)\n",
    "    points = np.array([\n",
    "        [xlim[0], xlim[1]]\n",
    "        ,[m*xlim[0] + b, m*xlim[1] + b]\n",
    "    ])\n",
    "\n",
    "    ax.fill_between(points[0], points[1], ylim[0], color='lightgrey', alpha=0.3, zorder=0)\n",
    "\n",
    "    plt.show()\n",
    "\n",
    "plot_data_and_separator(data, n)"
   ]
  },
  {
   "cell_type": "markdown",
   "metadata": {},
   "source": [
    "### 2.B Stochastic Gradient Descent\n",
    "\n",
    "The typical method for learning the weights of a neural net is to use Stochastic\n",
    "Gradient Descent (SGD). While SGD is only guaranteed to converge to the global\n",
    "minimum for convex problems, a condition that is not satisfied for neural \n",
    "networks, it is still used in the hope of finding a useful local minimum. For\n",
    "a neural network of more than one neuron, backpropagation is used to\n",
    "calculate the gradient. That is not needed here, and we will show how to use\n",
    "SGD for half-spaces with the hinge-loss function, as this is a convex\n",
    "loss function that serves as a surrgoate for the 0-1 loss.\n",
    "\n",
    "Stochastic gradient descent works by sampling a random point and calculating\n",
    "the gradient (or a subgradient) of the loss at the point and moving the weights\n",
    "in the opposite direction from the gradient. The output of SGD is typically\n",
    "taken to be the the average of the vectors output at each step.\n",
    "\n",
    "The hinge loss is defined by\n",
    "$$ f(w) = \\max\\{0, 1 - y(w\\cdot x)\\} $$\n",
    "where the vector $x$ has label $y$. If $1-y(w\\cdot x)\\leq0$, then a\n",
    "subgradient of the hinge loss is the zero vector. Othewise a\n",
    "subgradient is $-yx$."
   ]
  },
  {
   "cell_type": "code",
   "execution_count": 37,
   "metadata": {},
   "outputs": [],
   "source": [
    "def train_sgd(data, eta=0.1):\n",
    "    \"\"\"returns a neuron trained by stochastic gradient descent\"\"\"\n",
    "    \n",
    "    # let's take random weights centered about 0\n",
    "    steps = 1\n",
    "    \n",
    "    w = np.random.normal(size=3)\n",
    "    neuron = Neuron(w, np.sign)\n",
    "    \n",
    "    exists_mislabeled_point = True\n",
    "    while exists_mislabeled_point:\n",
    "\n",
    "        mislabeled_points = data[neuron.output(data[['x_1', 'x_2', 'const']]) != data['y']]\n",
    "\n",
    "        if mislabeled_points.shape[0] > 0:\n",
    "            steps += 1\n",
    "            point = data.sample(1)\n",
    "\n",
    "            # calculate the subgradient\n",
    "            x = point[['x_1', 'x_2', 'const']].values.reshape(3,)\n",
    "            y = point['y'].values\n",
    "            val = 1 - y * np.inner(w, x)\n",
    "\n",
    "            if val <= 0:\n",
    "                v = np.zeros(3)\n",
    "            else:\n",
    "                v = -y * x\n",
    "\n",
    "            # update\n",
    "            w = w - eta * v\n",
    "            neuron.w = ((steps - 1) * neuron.w + w) / steps\n",
    "        else:\n",
    "            exists_mislabeled_point = False\n",
    "        \n",
    "    return neuron"
   ]
  },
  {
   "cell_type": "markdown",
   "metadata": {},
   "source": [
    "As a above, we train a neuron and output the slope and intercept of the line\n",
    "defined by the weights of the neuron.\n",
    "Note that these will almost certainly be different than the weights found above."
   ]
  },
  {
   "cell_type": "code",
   "execution_count": 42,
   "metadata": {},
   "outputs": [
    {
     "name": "stdout",
     "output_type": "stream",
     "text": [
      "(0.9053581037692535, -0.5811194919144161)\n"
     ]
    }
   ],
   "source": [
    "n = train_sgd(data)\n",
    "print(get_line(n.w))"
   ]
  },
  {
   "cell_type": "code",
   "execution_count": 43,
   "metadata": {},
   "outputs": [
    {
     "data": {
      "image/png": "[encoded data removed]",
      "text/plain": [
       "<Figure size 432x288 with 1 Axes>"
      ]
     },
     "metadata": {
      "needs_background": "light"
     },
     "output_type": "display_data"
    }
   ],
   "source": [
    "plot_data_and_separator(data, n)"
   ]
  }
 ],
 "metadata": {
  "kernelspec": {
   "display_name": "Python [conda env:gitpage] *",
   "language": "python",
   "name": "conda-env-gitpage-py"
  },
  "language_info": {
   "codemirror_mode": {
    "name": "ipython",
    "version": 3
   },
   "file_extension": ".py",
   "mimetype": "text/x-python",
   "name": "python",
   "nbconvert_exporter": "python",
   "pygments_lexer": "ipython3",
   "version": "3.7.6"
  }
 },
 "nbformat": 4,
 "nbformat_minor": 4
}
