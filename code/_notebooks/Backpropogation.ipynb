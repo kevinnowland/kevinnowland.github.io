{
 "cells": [
  {
   "cell_type": "markdown",
   "metadata": {},
   "source": [
    "---\n",
    "layout: code-post\n",
    "title: Training neural nets - Backpropagation\n",
    "tags: [neural nets]\n",
    "---\n",
    "\n",
    "Following our foray into the expressive power of shallow neural\n",
    "networks, let's train a shallow neural network instead of \n",
    "designing them by hand.\n",
    "\n",
    "\n",
    "Outline:\n",
    "\n",
    "0. Generating data\n",
    "1. Backpropagation\n",
    "2. Examples\n",
    "3. PyTorch\n",
    "\n",
    "## 0. Generating Data\n",
    "\n",
    "Before we really get going, I'm going to set up some training data. For\n",
    "this notebook, I'm going to uniformly generate points in a 10 x 10 square\n",
    "with the bottom left corner at the origin. The points will be classified\n",
    "by where the fall with respect to input functions. We'll mostly be using\n",
    "linear functions to carve up our test space, so we'll create some helper\n",
    "functions for those as well."
   ]
  },
  {
   "cell_type": "code",
   "execution_count": 1,
   "metadata": {},
   "outputs": [],
   "source": [
    "import numpy as np\n",
    "import pandas as pd\n",
    "import matplotlib.pyplot as plt"
   ]
  },
  {
   "cell_type": "code",
   "execution_count": 2,
   "metadata": {},
   "outputs": [],
   "source": [
    "# Functions for lines\n",
    "class SlopeLine():\n",
    "    \"\"\" a line defined by slope and intercept \"\"\"\n",
    "    def __init__(self, m, b):\n",
    "        self.m = m\n",
    "        self.b = b\n",
    "        \n",
    "    def y(self, x):\n",
    "        return self.m * x + self.b\n",
    "    \n",
    "    def x(self, y):\n",
    "        return (y - self.b) / self.m\n",
    "\n",
    "def get_slope_line(point_1, point_2):\n",
    "    \"\"\"returns slope line object with line determined by the points\n",
    "    where point_i = (x, y)\"\"\"\n",
    "    \n",
    "    m = (point_2[1] - point_1[1]) / (point_2[0] - point_1[0])\n",
    "    b = point_1[1] - m * point_1[0]\n",
    "    \n",
    "    return SlopeLine(m, b)\n",
    "\n",
    "# Functions to generate points\n",
    "class Inequality():\n",
    "    \"\"\"\n",
    "    given a function f(x) of one variable.\n",
    "    we will test y < f(x) or y > f(x)\n",
    "    for a point (x, y)\n",
    "    \"\"\"\n",
    "    def __init__(self, func, ineq_type):\n",
    "        self.func = func\n",
    "        \n",
    "        if ineq_type == '<':\n",
    "            self.eval = self.less_than\n",
    "        elif ineq_type == '>':\n",
    "            self.eval = self.greater_than\n",
    "        else:\n",
    "            raise Exception(\"ineq_type must be '>' or '<'\")\n",
    "        \n",
    "    def less_than(self, point):\n",
    "        return point[:,1] < self.func(point[:,0])\n",
    "    \n",
    "    def greater_than(self, point):\n",
    "        return point[:,1] > self.func(point[:,0])\n",
    "    \n",
    "\n",
    "def generate_points(n, inequality_lists):\n",
    "    \"\"\" get n points in the 10x10 square classified by\n",
    "    inequalities.\n",
    "    \n",
    "    inequality_lists should be a list of lists of inequalities.\n",
    "    \n",
    "    Points are evaluated to the positive class (1) by the\n",
    "    interior lists if all the inequalities in that list\n",
    "    are satisfied. Then, if any of the the interior lists\n",
    "    return true, the point is classified as true.\n",
    "    \n",
    "    \"\"\"\n",
    "    data_x = np.random.uniform(0, 10, (n, 2))\n",
    "    \n",
    "    def evaluate_list(inequality_list):\n",
    "        \n",
    "        evals = np.array([ineq.eval(data_x) for ineq in inequality_list]) \\\n",
    "                  .transpose()\n",
    "        return np.array([all(p) for p in evals])\n",
    "    \n",
    "    all_evals = np.array([evaluate_list(il) for il in inequality_lists]) \\\n",
    "                  .transpose()\n",
    "    \n",
    "    data_y = np.array([1 if any(p) else -1 for p in all_evals])\n",
    "    \n",
    "    data = {\n",
    "        'x_1': data_x[:,0]\n",
    "        ,'x_2': data_x[:,1]\n",
    "        ,'y': data_y\n",
    "    }\n",
    "    return pd.DataFrame(data)"
   ]
  },
  {
   "cell_type": "code",
   "execution_count": 3,
   "metadata": {
    "hide_input": true
   },
   "outputs": [],
   "source": [
    "eye_1 = np.array([\n",
    "    [2, 5]\n",
    "    ,[3, 6]\n",
    "    ,[4, 5]\n",
    "    ,[3, 4]\n",
    "    ,[2, 5]\n",
    "])\n",
    "eye_2 = eye_1 + [4, 0]\n",
    "mouth = np.array([[2, 2], [8, 2], [5, 1], [2, 2]])\n",
    "\n",
    "lines_eye_1 = [get_slope_line(eye_1[i], eye_1[i+1]) for i in range(len(eye_1) - 1)]\n",
    "lines_eye_2 = [get_slope_line(eye_2[i], eye_2[i+1]) for i in range(len(eye_2) - 1)]\n",
    "lines_mouth = [get_slope_line(mouth[i], mouth[i+1]) for i in range(len(mouth) - 1)]\n",
    "\n",
    "ineq_eye_1 = [Inequality(lines_eye_1[0].y, '<'), Inequality(lines_eye_1[1].y, '<'),\n",
    "              Inequality(lines_eye_1[2].y, '>'), Inequality(lines_eye_1[3].y, '>')]\n",
    "\n",
    "ineq_eye_2 = [Inequality(lines_eye_2[0].y, '<'), Inequality(lines_eye_2[1].y, '<'),\n",
    "              Inequality(lines_eye_2[2].y, '>'), Inequality(lines_eye_2[3].y, '>')]\n",
    "\n",
    "ineq_mouth = [Inequality(lines_mouth[0].y, '<'), Inequality(lines_mouth[1].y, '>'), \n",
    "              Inequality(lines_mouth[2].y, '>')]\n",
    "\n",
    "df = generate_points(10000, [ineq_eye_1, ineq_eye_2, ineq_mouth])"
   ]
  },
  {
   "cell_type": "code",
   "execution_count": 4,
   "metadata": {
    "hide_input": true
   },
   "outputs": [
    {
     "data": {
      "image/png": "[encoded data removed]",
      "text/plain": [
       "<Figure size 432x288 with 1 Axes>"
      ]
     },
     "metadata": {
      "needs_background": "light"
     },
     "output_type": "display_data"
    }
   ],
   "source": [
    "c = df['y'] == 1\n",
    "\n",
    "plt.plot(df[c].x_1, df[c].x_2, 'ko')\n",
    "#plt.plot(df[~c].x_1, df[~c].x_2, 'ro')\n",
    "plt.show()"
   ]
  },
  {
   "cell_type": "code",
   "execution_count": 5,
   "metadata": {
    "hide_input": true
   },
   "outputs": [
    {
     "data": {
      "image/png": "[encoded data removed]",
      "text/plain": [
       "<Figure size 432x288 with 1 Axes>"
      ]
     },
     "metadata": {
      "needs_background": "light"
     },
     "output_type": "display_data"
    }
   ],
   "source": [
    "center = [5, 5]\n",
    "r = 4\n",
    "\n",
    "offset = -np.pi / 8 + .00001\n",
    "\n",
    "points = r * np.array([[np.cos(i * np.pi / 4 + offset), np.sin(i * np.pi / 4 + offset)] for i in range(9)]) + center\n",
    "\n",
    "inequalities = [[\n",
    "    Inequality(get_slope_line(points[i], points[i+1]).y, '<' if i < 4 else '>') for i in range(8)\n",
    "]]\n",
    "\n",
    "df = generate_points(10000, inequalities)\n",
    "\n",
    "c = df['y'] == 1\n",
    "\n",
    "plt.plot(df[c].x_1, df[c].x_2, 'ro')\n",
    "plt.plot(df[~c].x_1, df[~c].x_2, 'ko')\n",
    "plt.show()"
   ]
  },
  {
   "cell_type": "markdown",
   "metadata": {},
   "source": [
    "## 1. Backpropagation\n",
    "\n",
    "Even though neural networks are not an example of convex optimization,\n",
    "it has still proven useful to train the networks via stochastic gradient\n",
    "descent (SGD). Even if the found minima are only local or not even\n",
    "minima, this does not preclude their usefulness.\n",
    "\n",
    "Let $f(x, W)$ be the output of the neural net with weights $W$ at\n",
    "the input $x$. Previously, we had normalized the output by using the\n",
    "sign function to map to $\\pm1$. In this case we will not do this, leaving\n",
    "the output layer to have the identity function as its activation function.\n",
    "Since the desired values are $\\pm1$, we will stick with the hinge loss,\n",
    "which is defined as $\\ell(x, y, W) = \\max\\{0, 1 - y f(x, W)\\}$. As before,\n",
    "if $1 - y f(x, W) \\leq 0$, i.e., if the correct sign is being predicted,\n",
    "then the hinge loss has the zero vetor as a subgradient (with respect to\n",
    "$W$). Otherwise a subgradient is $- y\\partial_W f(x, W)$. Thus in the \n",
    "update step we have to calculate the gradient of the neural network with\n",
    "respect to the weights.\n",
    "\n",
    "The backpropagation algorithm is used to calculate this gradient. As noted in \n",
    "the [activation functions](https://kevinnowland.com/code/2020/04/19/activation-functions.html)\n",
    "post, feed forward neural networks are compositions of affine linear \n",
    "transformations (of which the weights are parameters) and component-wise \n",
    "activation functions. The structure of the composition suggests the\n",
    "backpropagation algorithm, where derivatives with respect to the weights\n",
    "in layers closer to the output layer can be used to calculate the\n",
    "derivatives with respect to weights closer to the input layer.\n",
    "The backpropagation algorithm actually consists of two parts, a forward\n",
    "pass through the neural network to calculate inputs and outputs of\n",
    "each layer and the backward pass to calculate the components of the\n",
    "gradient.\n"
   ]
  },
  {
   "cell_type": "code",
   "execution_count": 155,
   "metadata": {},
   "outputs": [],
   "source": [
    "class SimpleNN():\n",
    "    \"\"\"neural network with n hidden layers\"\"\"\n",
    "    \n",
    "    def __init__(self, w, sigma):\n",
    "        self.w = w\n",
    "        self.sigma = sigma\n",
    "        self.o = [0 for i in range(len(self.w)+1)]\n",
    "        self.a = [0 for i in range(len(self.w)+1)]\n",
    "        \n",
    "    def output(self, x):\n",
    "        \"\"\" we assume that the row vector x already has 1 appended to it\"\"\"\n",
    "        if type(x) == list:\n",
    "            x = np.array(x)\n",
    "            \n",
    "        # this is not optimal programming... but it does say simple nn\n",
    "        self.a[0] = x.transpose()\n",
    "        self.o[0] = self.a[0]\n",
    "        \n",
    "        for i in range(1, len(self.o)):\n",
    "            self.a[i] = np.matmul(self.w[i-1], self.o[i-1])\n",
    "            self.o[i] = self.sigma[i](self.a[i])\n",
    "            \n",
    "        return self.o[-1].transpose()\n",
    "    \n",
    "def backward_pass(W, o, a, y, sigma_prime):\n",
    "    \"\"\" calculates delta vectors \"\"\"\n",
    "    delta = [0 for i in range(len(o))]\n",
    "    sigma_prime_vals = [sigma_prime[i](a[i]) for i in range(len(a))]\n",
    "    grad = [0 for i in range(len(W))]\n",
    "    \n",
    "    # the first step is governed by the choice of the loss \n",
    "    # and the output function\n",
    "    delta[-1] = np.array([- y])\n",
    "    \n",
    "    # this is the rest of the backward pass\n",
    "    for i in range(-2, -len(delta)-1, -1):\n",
    "        delta[i] = np.matmul(W[i+1].transpose(), delta[i+1] * sigma_prime_vals[i+1])\n",
    "        \n",
    "    # this should be doable using numpy broadcasting\n",
    "    for i in range(len(grad)):\n",
    "        grad[i] = np.matmul(delta[i+1] * sigma_prime_vals[i+1], o[i].transpose())\n",
    "    \n",
    "    return grad\n",
    "\n",
    "def sigmoid(x):\n",
    "    return 1.0/(1 + np.exp(-x))\n",
    "\n",
    "def sigmoid_prime(x):\n",
    "    return sigmoid(x) * (1-sigmoid(x))"
   ]
  },
  {
   "cell_type": "code",
   "execution_count": 145,
   "metadata": {},
   "outputs": [
    {
     "name": "stdout",
     "output_type": "stream",
     "text": [
      "W^1 = \n",
      " [[-0.69167432  0.48009939 -0.47336997]\n",
      " [ 0.06747879 -0.97085008  0.83749402]\n",
      " [ 0.          0.          0.        ]]\n",
      "W^2 = \n",
      " [[ 0.80142971 -0.93315714  0.91389867]]\n"
     ]
    }
   ],
   "source": [
    "np.random.seed(12)\n",
    "\n",
    "def sigma_constant(x):\n",
    "    \"\"\" applies sigmoid function on first n-1 terms\n",
    "    of nx1 array, and returns 1 to the last term\"\"\"\n",
    "    o_1 = x.copy()\n",
    "    o_1[:-1,] = sigmoid(o_1[:-1,])\n",
    "    o_1[-1,] = 1\n",
    "    return o_1\n",
    "\n",
    "def sigma_constant_prime(x):\n",
    "    \"\"\" applies sigmoid' on first n-1 terms\n",
    "    returns 0 on last term \"\"\"\n",
    "    o_1 = x.copy()\n",
    "    o_1[:-1,] = sigmoid_prime(o_1[:-1,])\n",
    "    o_1[-1,] = 0\n",
    "    return o_1\n",
    "\n",
    "\n",
    "# need a 3x3 matrix to feed the first layer\n",
    "# need a 1x3 for the second layer\n",
    "w = [\n",
    "    np.zeros((3, 3))\n",
    "    ,np.zeros((1, 3))\n",
    "]\n",
    "\n",
    "# initialize the non-zero weights\n",
    "w[0][:2, :] = np.random.uniform(-1, 1, (2, 3))\n",
    "w[1] = np.random.uniform(-1, 1, (1, 3))\n",
    "\n",
    "print('W^1 = \\n', w[0])\n",
    "print('W^2 = \\n', w[1])\n",
    "\n",
    "snn = SimpleNN(w, [lambda x: x, sigma_constant, lambda x: x])"
   ]
  },
  {
   "cell_type": "code",
   "execution_count": 146,
   "metadata": {},
   "outputs": [
    {
     "data": {
      "text/plain": [
       "array([[0.66247914]])"
      ]
     },
     "execution_count": 146,
     "metadata": {},
     "output_type": "execute_result"
    }
   ],
   "source": [
    "snn.output(df.head(1).values)"
   ]
  },
  {
   "cell_type": "code",
   "execution_count": 153,
   "metadata": {},
   "outputs": [
    {
     "name": "stdout",
     "output_type": "stream",
     "text": [
      "0\n",
      "1\n"
     ]
    },
    {
     "data": {
      "text/plain": [
       "[array([[ 0.0511193 ,  0.00436562, -0.0062653 ],\n",
       "        [-1.52207618, -0.12998613,  0.18654924],\n",
       "        [ 0.        ,  0.        ,  0.        ]]),\n",
       " array([[0.00787975, 0.27619634, 1.        ]])]"
      ]
     },
     "execution_count": 153,
     "metadata": {},
     "output_type": "execute_result"
    }
   ],
   "source": []
  },
  {
   "cell_type": "code",
   "execution_count": 158,
   "metadata": {},
   "outputs": [],
   "source": [
    "grad = backward_pass(snn.w, snn.o, snn.a, -1.0, [lambda x: np.ones(x.shape), sigma_constant_prime, lambda x: np.ones(x.shape)])"
   ]
  },
  {
   "cell_type": "code",
   "execution_count": 161,
   "metadata": {},
   "outputs": [
    {
     "data": {
      "text/plain": [
       "[array([[-0.68656239,  0.48053595, -0.4739965 ],\n",
       "        [-0.08472883, -0.98384869,  0.85614894],\n",
       "        [ 0.        ,  0.        ,  0.        ]]),\n",
       " array([[ 0.80221768, -0.90553751,  1.01389867]])]"
      ]
     },
     "execution_count": 161,
     "metadata": {},
     "output_type": "execute_result"
    }
   ],
   "source": [
    "[snn.w[i] + 0.1*grad[i] for i in range(len(snn.w))]"
   ]
  },
  {
   "cell_type": "code",
   "execution_count": null,
   "metadata": {},
   "outputs": [],
   "source": []
  },
  {
   "cell_type": "code",
   "execution_count": null,
   "metadata": {},
   "outputs": [],
   "source": []
  },
  {
   "cell_type": "markdown",
   "metadata": {},
   "source": [
    "## Backpropagation\n",
    "\n",
    "Let's recall the setup. We have a layer $V_t$ of $n_t$ neurons. The\n",
    "input to $V_t$ is $a_t$ and the output is $o_t = \\sigma_t(a_t)$. \n",
    "Also, $a_t = W^{t-1}o_{t-1}$, and $W^{t-1}$ is a matrix of size\n",
    "$n_t\\times n_{t-1}$. The activation function $s_t$ will act\n",
    "componentwise on the $n_t$-dimensional vector $a_t$. $W^0$ is the\n",
    "weights from the input layer, and $W^T$ is the weights from\n",
    "the last hidden layer to the output layer, which consists of a single neuron\n",
    "that has the identity function as its activator.\n",
    "\n",
    "Let's examine how (the positive part of) the loss $\\ell(x, y, W)=1-y f(x, W)$ \n",
    "depends on $w^T_k$, a weight from the last hidden layer to the output\n",
    "layer. We calculate\n",
    "\n",
    "$$\n",
    "\\begin{align*}\n",
    "    \\frac{\\partial\\ell}{\\partial{w^T_k}}\n",
    "    &= \\frac{\\partial}{\\partial{w^T_k}}(1 - y\\sigma_{T+1}'(W^To_T)) \\\\\n",
    "    &= -y \\sigma_{T+1}'(a_{T+1})o_{T-1, k}.\n",
    "\\end{align*}\n",
    "$$\n",
    "\n",
    "We get the $o_{T-1, k}$ term because $a_{T+1}=W^To_T = \\sum_i w^T_i o_{T, i}$.\n",
    "Now let's consider the weight $w^T_{k, n}$ from neuron $n$ in $V_{T-1}$ \n",
    "to neuron $k$ in $V_T$. For this partial derivative we first find that\n",
    "\n",
    "$$\n",
    "\\begin{align*}\n",
    "    \\frac{\\partial\\ell}{\\partial{w^{T-1}_{k, n}}}\n",
    "    &= \\frac{\\partial}{\\partial{w^{T-1}_{k, n}}}(1 - y \\sigma_{T+1}(W^T\\sigma_T(W^{T-1}o_{T-1}))) \\\\\n",
    "    &= -y \\sigma_{T+1}'(a_{T+1})\\frac{\\partial}{\\partial{w^{T-1}_{k, n}}} W^T\\sigma_T(W^{T-1}o_{T-1})\n",
    "\\end{align*}\n",
    "$$\n",
    "\n",
    "Stopping for a moment to consider this, $w^{T-1}_{k, n}$ only feeds neuron $k$ in $V_T$,\n",
    "so only the $k$th component of $\\sigma_T$ is affected. Since the output layer only has one neuron,\n",
    "the only weight from this neuron is $w^T_k$, so we end up with\n",
    "\n",
    "$$\n",
    "\\begin{align*}\n",
    "    \\frac{\\partial\\ell}{\\partial{w^{T-1}_{k, n}}}\n",
    "    &= -y \\sigma_{T+1}'(a_{T+1}) w^T_k \\sigma_{T, k}'(a_T) o_{T-1, n}.\n",
    "\\end{align*}\n",
    "$$\n",
    "\n",
    "Note that we've repeated $-y\\sigma_{T+1}'(a_{T+1})$. Let's get a little ahead \n",
    "of ourselves define\n",
    "\n",
    "$$\n",
    "    \\delta_{T+1} := -y, \\quad\n",
    "    \\delta_{T, k} := \\delta_{T+1,k}\\sigma_{T+1}'(a_{T+1})w^T_k.\n",
    "$$\n",
    "\n",
    "Such that\n",
    "\n",
    "$$\n",
    "    \\frac{\\partial\\ell}{\\partial{w^T_k}} = \\delta_{T+1}\\sigma_{T+1}'(a_{T+1})o_{T-1, k},\\quad\n",
    "    \\frac{\\partial\\ell}{\\partial{w^{T-1}_{k, n}}} = \\delta_T\\sigma_{T, k}'(a_T) o_{T-1, n}.\n",
    "$$\n",
    "\n",
    "This already shows how backpropogation might work. A first forward pass through the neural\n",
    "net is necessary to calculate the $a_i$ and $o_i$, while on the backward pass we\n",
    "calculate the derivates one layer at a time, from output to input, storing the $\\delta$\n",
    "values along the way to help calculate successive derivatives. However, since the output\n",
    "layer only has one neuron, it's a little bit cheating to say that we are done, so\n",
    "let's calculate a derivative with respect to $w^{T-2}_{n, m}$ to get the full scope of\n",
    "the behavior. What changes here is that while $w^{T-2}_{n, m}$ only feeds neuron $n$\n",
    "in $V_{T-1}$, but neuron $n$ in $V_{T-1}$ feeds every neuron in $V_T$, of which there are\n",
    "multiple. So now the calculate looks like\n",
    "\n",
    "$$\n",
    "\\begin{align*}\n",
    "    \\frac{\\partial\\ell}{\\partial{w^{T-2}_{n, m}}}\n",
    "    &= -y \\sigma_{T+1}'(a_{T+1})\\sum_{i=1}^{n_T}w^T_i\\sigma_{T, i}'(a_T)w^{T-1}_{i, n}\\sigma_{T-1, n}'(a_{T-1})o_{T-2, m} \\\\\n",
    "    &= \\sum_{i=1}^{n_T}\\delta_{T, i}\\sigma_{T, i}'(a_T)w^{T-1}_{i, n}\\sigma_{T-1, n}'(a_{T-1})o_{T-2, m}.\n",
    "\\end{align*}\n",
    "$$\n",
    "\n",
    "Therefore we define\n",
    "\n",
    "$$\n",
    "    \\delta_{T-1, n} = \\sum_{i=1}^{n_T}\\delta_{T, i}\\sigma_{T, i}'(a_T)w^{T-1}_{i, n}\n",
    "$$\n",
    "\n",
    "such that\n",
    "\n",
    "$$\n",
    "    \\frac{\\partial\\ell}{\\partial w^{T-2}_{n, m}} = \\delta_{T-1, n}\\sigma_{T-1, n}'(a_{T-1})o_{T-2, m}.\n",
    "$$\n",
    "\n",
    "What we've shown is that the backward pass can be summarized by\n",
    "\n",
    "$$\n",
    "\\begin{align*}\n",
    "    \\delta_{T+1} &= -y, \\\\\n",
    "    \\delta_{t} &= {}^TW^t(\\delta_{t+1}*\\sigma_{t+1}'(a_{t+1})), \\\\\n",
    "    \\frac{\\partial\\ell}{\\partial w^t} &= (\\delta_{t+1}*\\sigma_{t+1}'(a_{t+1}))({}^To_t),\n",
    "\\end{align*}\n",
    "$$\n",
    "\n",
    "where ${}^TA$ is the transpose of $A$ and $(x*y)$ is the elementwise product.\n",
    "\n",
    "Having shown way too much detail, let's implment our simple neural network \n",
    "and stochastic gradient descent using backpropagation."
   ]
  },
  {
   "cell_type": "code",
   "execution_count": null,
   "metadata": {},
   "outputs": [],
   "source": []
  }
 ],
 "metadata": {
  "kernelspec": {
   "display_name": "Python [conda env:gitpage] *",
   "language": "python",
   "name": "conda-env-gitpage-py"
  },
  "language_info": {
   "codemirror_mode": {
    "name": "ipython",
    "version": 3
   },
   "file_extension": ".py",
   "mimetype": "text/x-python",
   "name": "python",
   "nbconvert_exporter": "python",
   "pygments_lexer": "ipython3",
   "version": "3.7.6"
  }
 },
 "nbformat": 4,
 "nbformat_minor": 4
}
